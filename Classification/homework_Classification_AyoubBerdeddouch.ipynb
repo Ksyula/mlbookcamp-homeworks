{
 "cells": [
  {
   "cell_type": "markdown",
   "metadata": {},
   "source": [
    "# Dataset\n",
    "In this homework, we will continue the `New York City Airbnb Open Data`. You can take it from [Kaggle](https://www.kaggle.com/dgomonov/new-york-city-airbnb-open-data?select=AB_NYC_2019.csv) or download from [here](https://raw.githubusercontent.com/alexeygrigorev/datasets/master/AB_NYC_2019.csv) if you don't want to sign up to Kaggle.\n",
    "\n",
    "We'll keep working with the 'price' variable, and we'll transform it to a classification task.\n",
    "\n",
    "# Features\n",
    "For the rest of the homework, you'll need to use the features from the previous homework with additional two `neighbourhood_group` and `room_type`. So the whole feature set will be set as follows:\n",
    "\n",
    "* `neighbourhood_group`,\n",
    "* `room_type`,\n",
    "* `latitude`,\n",
    "* `longitude`,\n",
    "* `price`,\n",
    "* `minimum_nights`,\n",
    "* `number_of_reviews`,\n",
    "* `reviews_per_month`,\n",
    "* `calculated_host_listings_count`,\n",
    "* `availability_365`\n",
    "\n",
    "Select only them and fill in the missing values with 0."
   ]
  },
  {
   "cell_type": "code",
   "execution_count": 1,
   "metadata": {},
   "outputs": [],
   "source": [
    "# Libraries \n",
    "\n",
    "import numpy as np\n",
    "import pandas as pd\n",
    "import matplotlib.pyplot as plt\n",
    "import seaborn as sns\n",
    "%matplotlib inline\n",
    "\n",
    "from sklearn.feature_selection import SelectKBest, chi2\n",
    "from sklearn.ensemble import ExtraTreesClassifier, RandomForestClassifier\n",
    "from sklearn.neighbors import KNeighborsClassifier\n",
    "\n",
    "from sklearn.model_selection import train_test_split\n",
    "from sklearn.metrics import mean_squared_error, accuracy_score,  r2_score"
   ]
  },
  {
   "cell_type": "code",
   "execution_count": 2,
   "metadata": {},
   "outputs": [
    {
     "data": {
      "text/html": [
       "<div>\n",
       "<style scoped>\n",
       "    .dataframe tbody tr th:only-of-type {\n",
       "        vertical-align: middle;\n",
       "    }\n",
       "\n",
       "    .dataframe tbody tr th {\n",
       "        vertical-align: top;\n",
       "    }\n",
       "\n",
       "    .dataframe thead th {\n",
       "        text-align: right;\n",
       "    }\n",
       "</style>\n",
       "<table border=\"1\" class=\"dataframe\">\n",
       "  <thead>\n",
       "    <tr style=\"text-align: right;\">\n",
       "      <th></th>\n",
       "      <th>id</th>\n",
       "      <th>name</th>\n",
       "      <th>host_id</th>\n",
       "      <th>host_name</th>\n",
       "      <th>neighbourhood_group</th>\n",
       "      <th>neighbourhood</th>\n",
       "      <th>latitude</th>\n",
       "      <th>longitude</th>\n",
       "      <th>room_type</th>\n",
       "      <th>price</th>\n",
       "      <th>minimum_nights</th>\n",
       "      <th>number_of_reviews</th>\n",
       "      <th>last_review</th>\n",
       "      <th>reviews_per_month</th>\n",
       "      <th>calculated_host_listings_count</th>\n",
       "      <th>availability_365</th>\n",
       "    </tr>\n",
       "  </thead>\n",
       "  <tbody>\n",
       "    <tr>\n",
       "      <th>0</th>\n",
       "      <td>2539</td>\n",
       "      <td>Clean &amp; quiet apt home by the park</td>\n",
       "      <td>2787</td>\n",
       "      <td>John</td>\n",
       "      <td>Brooklyn</td>\n",
       "      <td>Kensington</td>\n",
       "      <td>40.64749</td>\n",
       "      <td>-73.97237</td>\n",
       "      <td>Private room</td>\n",
       "      <td>149</td>\n",
       "      <td>1</td>\n",
       "      <td>9</td>\n",
       "      <td>2018-10-19</td>\n",
       "      <td>0.21</td>\n",
       "      <td>6</td>\n",
       "      <td>365</td>\n",
       "    </tr>\n",
       "    <tr>\n",
       "      <th>1</th>\n",
       "      <td>2595</td>\n",
       "      <td>Skylit Midtown Castle</td>\n",
       "      <td>2845</td>\n",
       "      <td>Jennifer</td>\n",
       "      <td>Manhattan</td>\n",
       "      <td>Midtown</td>\n",
       "      <td>40.75362</td>\n",
       "      <td>-73.98377</td>\n",
       "      <td>Entire home/apt</td>\n",
       "      <td>225</td>\n",
       "      <td>1</td>\n",
       "      <td>45</td>\n",
       "      <td>2019-05-21</td>\n",
       "      <td>0.38</td>\n",
       "      <td>2</td>\n",
       "      <td>355</td>\n",
       "    </tr>\n",
       "    <tr>\n",
       "      <th>2</th>\n",
       "      <td>3647</td>\n",
       "      <td>THE VILLAGE OF HARLEM....NEW YORK !</td>\n",
       "      <td>4632</td>\n",
       "      <td>Elisabeth</td>\n",
       "      <td>Manhattan</td>\n",
       "      <td>Harlem</td>\n",
       "      <td>40.80902</td>\n",
       "      <td>-73.94190</td>\n",
       "      <td>Private room</td>\n",
       "      <td>150</td>\n",
       "      <td>3</td>\n",
       "      <td>0</td>\n",
       "      <td>NaN</td>\n",
       "      <td>NaN</td>\n",
       "      <td>1</td>\n",
       "      <td>365</td>\n",
       "    </tr>\n",
       "  </tbody>\n",
       "</table>\n",
       "</div>"
      ],
      "text/plain": [
       "     id                                 name  host_id  host_name  \\\n",
       "0  2539   Clean & quiet apt home by the park     2787       John   \n",
       "1  2595                Skylit Midtown Castle     2845   Jennifer   \n",
       "2  3647  THE VILLAGE OF HARLEM....NEW YORK !     4632  Elisabeth   \n",
       "\n",
       "  neighbourhood_group neighbourhood  latitude  longitude        room_type  \\\n",
       "0            Brooklyn    Kensington  40.64749  -73.97237     Private room   \n",
       "1           Manhattan       Midtown  40.75362  -73.98377  Entire home/apt   \n",
       "2           Manhattan        Harlem  40.80902  -73.94190     Private room   \n",
       "\n",
       "   price  minimum_nights  number_of_reviews last_review  reviews_per_month  \\\n",
       "0    149               1                  9  2018-10-19               0.21   \n",
       "1    225               1                 45  2019-05-21               0.38   \n",
       "2    150               3                  0         NaN                NaN   \n",
       "\n",
       "   calculated_host_listings_count  availability_365  \n",
       "0                               6               365  \n",
       "1                               2               355  \n",
       "2                               1               365  "
      ]
     },
     "execution_count": 2,
     "metadata": {},
     "output_type": "execute_result"
    }
   ],
   "source": [
    "airbnb = pd.read_csv(\"AB_NYC_2019.csv\") \n",
    "airbnb.head(3)"
   ]
  },
  {
   "cell_type": "code",
   "execution_count": 3,
   "metadata": {},
   "outputs": [
    {
     "name": "stdout",
     "output_type": "stream",
     "text": [
      "<class 'pandas.core.frame.DataFrame'>\n",
      "RangeIndex: 48895 entries, 0 to 48894\n",
      "Data columns (total 10 columns):\n",
      " #   Column                          Non-Null Count  Dtype  \n",
      "---  ------                          --------------  -----  \n",
      " 0   neighbourhood_group             48895 non-null  object \n",
      " 1   latitude                        48895 non-null  float64\n",
      " 2   longitude                       48895 non-null  float64\n",
      " 3   room_type                       48895 non-null  object \n",
      " 4   minimum_nights                  48895 non-null  int64  \n",
      " 5   number_of_reviews               48895 non-null  int64  \n",
      " 6   reviews_per_month               38843 non-null  float64\n",
      " 7   calculated_host_listings_count  48895 non-null  int64  \n",
      " 8   availability_365                48895 non-null  int64  \n",
      " 9   price                           48895 non-null  int64  \n",
      "dtypes: float64(3), int64(5), object(2)\n",
      "memory usage: 3.7+ MB\n"
     ]
    },
    {
     "data": {
      "text/html": [
       "<div>\n",
       "<style scoped>\n",
       "    .dataframe tbody tr th:only-of-type {\n",
       "        vertical-align: middle;\n",
       "    }\n",
       "\n",
       "    .dataframe tbody tr th {\n",
       "        vertical-align: top;\n",
       "    }\n",
       "\n",
       "    .dataframe thead th {\n",
       "        text-align: right;\n",
       "    }\n",
       "</style>\n",
       "<table border=\"1\" class=\"dataframe\">\n",
       "  <thead>\n",
       "    <tr style=\"text-align: right;\">\n",
       "      <th></th>\n",
       "      <th>neighbourhood_group</th>\n",
       "      <th>latitude</th>\n",
       "      <th>longitude</th>\n",
       "      <th>room_type</th>\n",
       "      <th>minimum_nights</th>\n",
       "      <th>number_of_reviews</th>\n",
       "      <th>reviews_per_month</th>\n",
       "      <th>calculated_host_listings_count</th>\n",
       "      <th>availability_365</th>\n",
       "      <th>price</th>\n",
       "    </tr>\n",
       "  </thead>\n",
       "  <tbody>\n",
       "    <tr>\n",
       "      <th>0</th>\n",
       "      <td>Brooklyn</td>\n",
       "      <td>40.64749</td>\n",
       "      <td>-73.97237</td>\n",
       "      <td>Private room</td>\n",
       "      <td>1</td>\n",
       "      <td>9</td>\n",
       "      <td>0.21</td>\n",
       "      <td>6</td>\n",
       "      <td>365</td>\n",
       "      <td>149</td>\n",
       "    </tr>\n",
       "    <tr>\n",
       "      <th>1</th>\n",
       "      <td>Manhattan</td>\n",
       "      <td>40.75362</td>\n",
       "      <td>-73.98377</td>\n",
       "      <td>Entire home/apt</td>\n",
       "      <td>1</td>\n",
       "      <td>45</td>\n",
       "      <td>0.38</td>\n",
       "      <td>2</td>\n",
       "      <td>355</td>\n",
       "      <td>225</td>\n",
       "    </tr>\n",
       "    <tr>\n",
       "      <th>2</th>\n",
       "      <td>Manhattan</td>\n",
       "      <td>40.80902</td>\n",
       "      <td>-73.94190</td>\n",
       "      <td>Private room</td>\n",
       "      <td>3</td>\n",
       "      <td>0</td>\n",
       "      <td>NaN</td>\n",
       "      <td>1</td>\n",
       "      <td>365</td>\n",
       "      <td>150</td>\n",
       "    </tr>\n",
       "    <tr>\n",
       "      <th>3</th>\n",
       "      <td>Brooklyn</td>\n",
       "      <td>40.68514</td>\n",
       "      <td>-73.95976</td>\n",
       "      <td>Entire home/apt</td>\n",
       "      <td>1</td>\n",
       "      <td>270</td>\n",
       "      <td>4.64</td>\n",
       "      <td>1</td>\n",
       "      <td>194</td>\n",
       "      <td>89</td>\n",
       "    </tr>\n",
       "    <tr>\n",
       "      <th>4</th>\n",
       "      <td>Manhattan</td>\n",
       "      <td>40.79851</td>\n",
       "      <td>-73.94399</td>\n",
       "      <td>Entire home/apt</td>\n",
       "      <td>10</td>\n",
       "      <td>9</td>\n",
       "      <td>0.10</td>\n",
       "      <td>1</td>\n",
       "      <td>0</td>\n",
       "      <td>80</td>\n",
       "    </tr>\n",
       "  </tbody>\n",
       "</table>\n",
       "</div>"
      ],
      "text/plain": [
       "  neighbourhood_group  latitude  longitude        room_type  minimum_nights  \\\n",
       "0            Brooklyn  40.64749  -73.97237     Private room               1   \n",
       "1           Manhattan  40.75362  -73.98377  Entire home/apt               1   \n",
       "2           Manhattan  40.80902  -73.94190     Private room               3   \n",
       "3            Brooklyn  40.68514  -73.95976  Entire home/apt               1   \n",
       "4           Manhattan  40.79851  -73.94399  Entire home/apt              10   \n",
       "\n",
       "   number_of_reviews  reviews_per_month  calculated_host_listings_count  \\\n",
       "0                  9               0.21                               6   \n",
       "1                 45               0.38                               2   \n",
       "2                  0                NaN                               1   \n",
       "3                270               4.64                               1   \n",
       "4                  9               0.10                               1   \n",
       "\n",
       "   availability_365  price  \n",
       "0               365    149  \n",
       "1               355    225  \n",
       "2               365    150  \n",
       "3               194     89  \n",
       "4                 0     80  "
      ]
     },
     "execution_count": 3,
     "metadata": {},
     "output_type": "execute_result"
    }
   ],
   "source": [
    "df = airbnb[[\n",
    "            'neighbourhood_group',\n",
    "            'latitude',\n",
    "            'longitude',\n",
    "            'room_type',\n",
    "            'minimum_nights',\n",
    "            'number_of_reviews',\n",
    "            'reviews_per_month',\n",
    "            'calculated_host_listings_count',\n",
    "            'availability_365',\n",
    "            'price']]\n",
    "\n",
    "df.info()\n",
    "df.head()"
   ]
  },
  {
   "cell_type": "code",
   "execution_count": 4,
   "metadata": {},
   "outputs": [
    {
     "name": "stdout",
     "output_type": "stream",
     "text": [
      "Sum of NAN in dataframe before:\n"
     ]
    },
    {
     "data": {
      "text/plain": [
       "neighbourhood_group                   0\n",
       "latitude                              0\n",
       "longitude                             0\n",
       "room_type                             0\n",
       "minimum_nights                        0\n",
       "number_of_reviews                     0\n",
       "reviews_per_month                 10052\n",
       "calculated_host_listings_count        0\n",
       "availability_365                      0\n",
       "price                                 0\n",
       "dtype: int64"
      ]
     },
     "execution_count": 4,
     "metadata": {},
     "output_type": "execute_result"
    }
   ],
   "source": [
    "print(\"Sum of NAN in dataframe before:\")\n",
    "df.isna().sum()"
   ]
  },
  {
   "cell_type": "code",
   "execution_count": 5,
   "metadata": {},
   "outputs": [
    {
     "name": "stdout",
     "output_type": "stream",
     "text": [
      "Sum of NAN in dataframe After :\n"
     ]
    },
    {
     "data": {
      "text/plain": [
       "neighbourhood_group               0\n",
       "latitude                          0\n",
       "longitude                         0\n",
       "room_type                         0\n",
       "minimum_nights                    0\n",
       "number_of_reviews                 0\n",
       "reviews_per_month                 0\n",
       "calculated_host_listings_count    0\n",
       "availability_365                  0\n",
       "price                             0\n",
       "dtype: int64"
      ]
     },
     "execution_count": 5,
     "metadata": {},
     "output_type": "execute_result"
    }
   ],
   "source": [
    "print(\"Sum of NAN in dataframe After :\")\n",
    "df = df.fillna(0)\n",
    "df.isna().sum()"
   ]
  },
  {
   "cell_type": "markdown",
   "metadata": {},
   "source": [
    "## Q1: What is the most frequent observation (mode) for the column 'neighbourhood_group'?\n"
   ]
  },
  {
   "cell_type": "code",
   "execution_count": 6,
   "metadata": {},
   "outputs": [
    {
     "name": "stdout",
     "output_type": "stream",
     "text": [
      "Mode:Computed column-wise:\n"
     ]
    },
    {
     "data": {
      "text/html": [
       "<div>\n",
       "<style scoped>\n",
       "    .dataframe tbody tr th:only-of-type {\n",
       "        vertical-align: middle;\n",
       "    }\n",
       "\n",
       "    .dataframe tbody tr th {\n",
       "        vertical-align: top;\n",
       "    }\n",
       "\n",
       "    .dataframe thead th {\n",
       "        text-align: right;\n",
       "    }\n",
       "</style>\n",
       "<table border=\"1\" class=\"dataframe\">\n",
       "  <thead>\n",
       "    <tr style=\"text-align: right;\">\n",
       "      <th></th>\n",
       "      <th>neighbourhood_group</th>\n",
       "      <th>latitude</th>\n",
       "      <th>longitude</th>\n",
       "      <th>room_type</th>\n",
       "      <th>minimum_nights</th>\n",
       "      <th>number_of_reviews</th>\n",
       "      <th>reviews_per_month</th>\n",
       "      <th>calculated_host_listings_count</th>\n",
       "      <th>availability_365</th>\n",
       "      <th>price</th>\n",
       "    </tr>\n",
       "  </thead>\n",
       "  <tbody>\n",
       "    <tr>\n",
       "      <th>0</th>\n",
       "      <td>Manhattan</td>\n",
       "      <td>40.71813</td>\n",
       "      <td>-73.95677</td>\n",
       "      <td>Entire home/apt</td>\n",
       "      <td>1.0</td>\n",
       "      <td>0.0</td>\n",
       "      <td>0.0</td>\n",
       "      <td>1.0</td>\n",
       "      <td>0.0</td>\n",
       "      <td>100.0</td>\n",
       "    </tr>\n",
       "    <tr>\n",
       "      <th>1</th>\n",
       "      <td>NaN</td>\n",
       "      <td>NaN</td>\n",
       "      <td>-73.95427</td>\n",
       "      <td>NaN</td>\n",
       "      <td>NaN</td>\n",
       "      <td>NaN</td>\n",
       "      <td>NaN</td>\n",
       "      <td>NaN</td>\n",
       "      <td>NaN</td>\n",
       "      <td>NaN</td>\n",
       "    </tr>\n",
       "  </tbody>\n",
       "</table>\n",
       "</div>"
      ],
      "text/plain": [
       "  neighbourhood_group  latitude  longitude        room_type  minimum_nights  \\\n",
       "0           Manhattan  40.71813  -73.95677  Entire home/apt             1.0   \n",
       "1                 NaN       NaN  -73.95427              NaN             NaN   \n",
       "\n",
       "   number_of_reviews  reviews_per_month  calculated_host_listings_count  \\\n",
       "0                0.0                0.0                             1.0   \n",
       "1                NaN                NaN                             NaN   \n",
       "\n",
       "   availability_365  price  \n",
       "0               0.0  100.0  \n",
       "1               NaN    NaN  "
      ]
     },
     "execution_count": 6,
     "metadata": {},
     "output_type": "execute_result"
    }
   ],
   "source": [
    "print(\"Mode:Computed column-wise:\");\n",
    "\n",
    "df.mode(axis = 0,numeric_only=False,dropna=True)\n",
    "\n"
   ]
  },
  {
   "cell_type": "markdown",
   "metadata": {},
   "source": [
    "* Mode in `neighbourhood_group` is **Manhattan**"
   ]
  },
  {
   "cell_type": "markdown",
   "metadata": {},
   "source": [
    "# Split the data\n",
    "\n",
    "Split your data in train/val/test sets, with **60%/20%/20%** distribution.\n",
    "\n",
    "Use Scikit-Learn for that (the train_test_split function) and set the seed to 42.\n",
    "\n",
    "Make sure that the target value `('price')` is not in your dataframe."
   ]
  },
  {
   "cell_type": "code",
   "execution_count": 7,
   "metadata": {},
   "outputs": [],
   "source": [
    "df_full_train, df_test = train_test_split(df, test_size=0.2, random_state=42)\n",
    "df_train, df_val = train_test_split(df_full_train, test_size=0.2, random_state=42)"
   ]
  },
  {
   "cell_type": "code",
   "execution_count": 8,
   "metadata": {},
   "outputs": [
    {
     "data": {
      "text/plain": [
       "(31292, 7824, 9779)"
      ]
     },
     "execution_count": 8,
     "metadata": {},
     "output_type": "execute_result"
    }
   ],
   "source": [
    "len(df_train), len(df_val), len(df_test)"
   ]
  },
  {
   "cell_type": "code",
   "execution_count": 9,
   "metadata": {},
   "outputs": [],
   "source": [
    "df_train = df_train.reset_index(drop=True)\n",
    "df_val = df_val.reset_index(drop=True)\n",
    "df_test = df_test.reset_index(drop=True)\n",
    "\n",
    "\n",
    "y_train = df_train.price.values\n",
    "y_val = df_val.price.values\n",
    "y_test = df_test.price.values\n",
    "\n",
    "del df_train['price']\n",
    "del df_val['price']\n",
    "del df_test['price']"
   ]
  },
  {
   "cell_type": "markdown",
   "metadata": {},
   "source": [
    "## Question 2: \n",
    "\n",
    "* Create the correlation matrix for the numerical features of your train dataset.\n",
    "    * In a correlation matrix, you compute the correlation coefficient between every pair of features in the dataset.\n",
    "* What are the two features that have the biggest correlation in this dataset?"
   ]
  },
  {
   "cell_type": "code",
   "execution_count": 10,
   "metadata": {},
   "outputs": [],
   "source": [
    "# Categorical Features\n",
    "categorical_columns = list(df.dtypes[df.dtypes == 'object'].index)\n",
    "\n",
    "for c in categorical_columns:\n",
    "    df[c] = df[c].str.lower().str.replace(' ', '_')"
   ]
  },
  {
   "cell_type": "code",
   "execution_count": 11,
   "metadata": {},
   "outputs": [
    {
     "data": {
      "text/plain": [
       "['neighbourhood_group', 'room_type']"
      ]
     },
     "execution_count": 11,
     "metadata": {},
     "output_type": "execute_result"
    }
   ],
   "source": [
    "categorical_columns"
   ]
  },
  {
   "cell_type": "code",
   "execution_count": 12,
   "metadata": {},
   "outputs": [
    {
     "data": {
      "text/plain": [
       "['latitude',\n",
       " 'longitude',\n",
       " 'minimum_nights',\n",
       " 'number_of_reviews',\n",
       " 'reviews_per_month',\n",
       " 'calculated_host_listings_count',\n",
       " 'availability_365',\n",
       " 'price']"
      ]
     },
     "execution_count": 12,
     "metadata": {},
     "output_type": "execute_result"
    }
   ],
   "source": [
    "numerical = df.select_dtypes(exclude=['object']).columns.tolist()\n",
    "numerical"
   ]
  },
  {
   "cell_type": "code",
   "execution_count": 13,
   "metadata": {},
   "outputs": [
    {
     "data": {
      "text/html": [
       "<div>\n",
       "<style scoped>\n",
       "    .dataframe tbody tr th:only-of-type {\n",
       "        vertical-align: middle;\n",
       "    }\n",
       "\n",
       "    .dataframe tbody tr th {\n",
       "        vertical-align: top;\n",
       "    }\n",
       "\n",
       "    .dataframe thead th {\n",
       "        text-align: right;\n",
       "    }\n",
       "</style>\n",
       "<table border=\"1\" class=\"dataframe\">\n",
       "  <thead>\n",
       "    <tr style=\"text-align: right;\">\n",
       "      <th></th>\n",
       "      <th>latitude</th>\n",
       "      <th>longitude</th>\n",
       "      <th>minimum_nights</th>\n",
       "      <th>number_of_reviews</th>\n",
       "      <th>reviews_per_month</th>\n",
       "      <th>calculated_host_listings_count</th>\n",
       "      <th>availability_365</th>\n",
       "    </tr>\n",
       "  </thead>\n",
       "  <tbody>\n",
       "    <tr>\n",
       "      <th>latitude</th>\n",
       "      <td>1.000000</td>\n",
       "      <td>0.082567</td>\n",
       "      <td>0.024824</td>\n",
       "      <td>-0.007411</td>\n",
       "      <td>-0.009479</td>\n",
       "      <td>0.019051</td>\n",
       "      <td>-0.006793</td>\n",
       "    </tr>\n",
       "    <tr>\n",
       "      <th>longitude</th>\n",
       "      <td>0.082567</td>\n",
       "      <td>1.000000</td>\n",
       "      <td>-0.061049</td>\n",
       "      <td>0.055967</td>\n",
       "      <td>0.134702</td>\n",
       "      <td>-0.116155</td>\n",
       "      <td>0.083446</td>\n",
       "    </tr>\n",
       "    <tr>\n",
       "      <th>minimum_nights</th>\n",
       "      <td>0.024824</td>\n",
       "      <td>-0.061049</td>\n",
       "      <td>1.000000</td>\n",
       "      <td>-0.074459</td>\n",
       "      <td>-0.118436</td>\n",
       "      <td>0.114218</td>\n",
       "      <td>0.136383</td>\n",
       "    </tr>\n",
       "    <tr>\n",
       "      <th>number_of_reviews</th>\n",
       "      <td>-0.007411</td>\n",
       "      <td>0.055967</td>\n",
       "      <td>-0.074459</td>\n",
       "      <td>1.000000</td>\n",
       "      <td>0.591234</td>\n",
       "      <td>-0.072782</td>\n",
       "      <td>0.174931</td>\n",
       "    </tr>\n",
       "    <tr>\n",
       "      <th>reviews_per_month</th>\n",
       "      <td>-0.009479</td>\n",
       "      <td>0.134702</td>\n",
       "      <td>-0.118436</td>\n",
       "      <td>0.591234</td>\n",
       "      <td>1.000000</td>\n",
       "      <td>-0.047711</td>\n",
       "      <td>0.166007</td>\n",
       "    </tr>\n",
       "    <tr>\n",
       "      <th>calculated_host_listings_count</th>\n",
       "      <td>0.019051</td>\n",
       "      <td>-0.116155</td>\n",
       "      <td>0.114218</td>\n",
       "      <td>-0.072782</td>\n",
       "      <td>-0.047711</td>\n",
       "      <td>1.000000</td>\n",
       "      <td>0.226329</td>\n",
       "    </tr>\n",
       "    <tr>\n",
       "      <th>availability_365</th>\n",
       "      <td>-0.006793</td>\n",
       "      <td>0.083446</td>\n",
       "      <td>0.136383</td>\n",
       "      <td>0.174931</td>\n",
       "      <td>0.166007</td>\n",
       "      <td>0.226329</td>\n",
       "      <td>1.000000</td>\n",
       "    </tr>\n",
       "  </tbody>\n",
       "</table>\n",
       "</div>"
      ],
      "text/plain": [
       "                                latitude  longitude  minimum_nights  \\\n",
       "latitude                        1.000000   0.082567        0.024824   \n",
       "longitude                       0.082567   1.000000       -0.061049   \n",
       "minimum_nights                  0.024824  -0.061049        1.000000   \n",
       "number_of_reviews              -0.007411   0.055967       -0.074459   \n",
       "reviews_per_month              -0.009479   0.134702       -0.118436   \n",
       "calculated_host_listings_count  0.019051  -0.116155        0.114218   \n",
       "availability_365               -0.006793   0.083446        0.136383   \n",
       "\n",
       "                                number_of_reviews  reviews_per_month  \\\n",
       "latitude                                -0.007411          -0.009479   \n",
       "longitude                                0.055967           0.134702   \n",
       "minimum_nights                          -0.074459          -0.118436   \n",
       "number_of_reviews                        1.000000           0.591234   \n",
       "reviews_per_month                        0.591234           1.000000   \n",
       "calculated_host_listings_count          -0.072782          -0.047711   \n",
       "availability_365                         0.174931           0.166007   \n",
       "\n",
       "                                calculated_host_listings_count  \\\n",
       "latitude                                              0.019051   \n",
       "longitude                                            -0.116155   \n",
       "minimum_nights                                        0.114218   \n",
       "number_of_reviews                                    -0.072782   \n",
       "reviews_per_month                                    -0.047711   \n",
       "calculated_host_listings_count                        1.000000   \n",
       "availability_365                                      0.226329   \n",
       "\n",
       "                                availability_365  \n",
       "latitude                               -0.006793  \n",
       "longitude                               0.083446  \n",
       "minimum_nights                          0.136383  \n",
       "number_of_reviews                       0.174931  \n",
       "reviews_per_month                       0.166007  \n",
       "calculated_host_listings_count          0.226329  \n",
       "availability_365                        1.000000  "
      ]
     },
     "execution_count": 13,
     "metadata": {},
     "output_type": "execute_result"
    }
   ],
   "source": [
    "df_train.corr().T"
   ]
  },
  {
   "cell_type": "code",
   "execution_count": 14,
   "metadata": {},
   "outputs": [
    {
     "data": {
      "image/png": "[encoded data removed]",
      "text/plain": [
       "<Figure size 720x576 with 2 Axes>"
      ]
     },
     "metadata": {
      "needs_background": "light"
     },
     "output_type": "display_data"
    }
   ],
   "source": [
    "corr = df_train.corr()\n",
    "plt.figure(figsize=(10,8))\n",
    "ax = sns.heatmap(\n",
    "    corr, \n",
    "    vmin=-1, vmax=1, center=0,\n",
    "    cmap=sns.diverging_palette(20, 220, n=200),\n",
    "    square=False,\n",
    "    annot= True,\n",
    ")\n",
    "ax.set_xticklabels(\n",
    "    ax.get_xticklabels(),\n",
    "    rotation=45,\n",
    "    horizontalalignment='right'\n",
    ");\n",
    "plt.title(\" Correlation Matrix of Numerical Features from df_train \")\n",
    "plt.show()"
   ]
  },
  {
   "cell_type": "code",
   "execution_count": 15,
   "metadata": {},
   "outputs": [
    {
     "name": "stdout",
     "output_type": "stream",
     "text": [
      "latitude                        latitude                          1.000000\n",
      "                                longitude                         0.082567\n",
      "                                minimum_nights                    0.024824\n",
      "                                number_of_reviews                -0.007411\n",
      "                                reviews_per_month                -0.009479\n",
      "                                calculated_host_listings_count    0.019051\n",
      "                                availability_365                 -0.006793\n",
      "longitude                       latitude                          0.082567\n",
      "                                longitude                         1.000000\n",
      "                                minimum_nights                   -0.061049\n",
      "                                number_of_reviews                 0.055967\n",
      "                                reviews_per_month                 0.134702\n",
      "                                calculated_host_listings_count   -0.116155\n",
      "                                availability_365                  0.083446\n",
      "minimum_nights                  latitude                          0.024824\n",
      "                                longitude                        -0.061049\n",
      "                                minimum_nights                    1.000000\n",
      "                                number_of_reviews                -0.074459\n",
      "                                reviews_per_month                -0.118436\n",
      "                                calculated_host_listings_count    0.114218\n",
      "                                availability_365                  0.136383\n",
      "number_of_reviews               latitude                         -0.007411\n",
      "                                longitude                         0.055967\n",
      "                                minimum_nights                   -0.074459\n",
      "                                number_of_reviews                 1.000000\n",
      "                                reviews_per_month                 0.591234\n",
      "                                calculated_host_listings_count   -0.072782\n",
      "                                availability_365                  0.174931\n",
      "reviews_per_month               latitude                         -0.009479\n",
      "                                longitude                         0.134702\n",
      "                                minimum_nights                   -0.118436\n",
      "                                number_of_reviews                 0.591234\n",
      "                                reviews_per_month                 1.000000\n",
      "                                calculated_host_listings_count   -0.047711\n",
      "                                availability_365                  0.166007\n",
      "calculated_host_listings_count  latitude                          0.019051\n",
      "                                longitude                        -0.116155\n",
      "                                minimum_nights                    0.114218\n",
      "                                number_of_reviews                -0.072782\n",
      "                                reviews_per_month                -0.047711\n",
      "                                calculated_host_listings_count    1.000000\n",
      "                                availability_365                  0.226329\n",
      "availability_365                latitude                         -0.006793\n",
      "                                longitude                         0.083446\n",
      "                                minimum_nights                    0.136383\n",
      "                                number_of_reviews                 0.174931\n",
      "                                reviews_per_month                 0.166007\n",
      "                                calculated_host_listings_count    0.226329\n",
      "                                availability_365                  1.000000\n",
      "dtype: float64\n"
     ]
    }
   ],
   "source": [
    "# Credit : https://likegeeks.com/python-correlation-matrix/\n",
    "corr = df_train.corr()\n",
    "corr_pairs = corr.unstack()\n",
    "print(corr_pairs)"
   ]
  },
  {
   "cell_type": "code",
   "execution_count": 16,
   "metadata": {},
   "outputs": [
    {
     "name": "stdout",
     "output_type": "stream",
     "text": [
      "reviews_per_month               minimum_nights                   -0.118436\n",
      "minimum_nights                  reviews_per_month                -0.118436\n",
      "calculated_host_listings_count  longitude                        -0.116155\n",
      "longitude                       calculated_host_listings_count   -0.116155\n",
      "number_of_reviews               minimum_nights                   -0.074459\n",
      "minimum_nights                  number_of_reviews                -0.074459\n",
      "calculated_host_listings_count  number_of_reviews                -0.072782\n",
      "number_of_reviews               calculated_host_listings_count   -0.072782\n",
      "longitude                       minimum_nights                   -0.061049\n",
      "minimum_nights                  longitude                        -0.061049\n",
      "calculated_host_listings_count  reviews_per_month                -0.047711\n",
      "reviews_per_month               calculated_host_listings_count   -0.047711\n",
      "latitude                        reviews_per_month                -0.009479\n",
      "reviews_per_month               latitude                         -0.009479\n",
      "number_of_reviews               latitude                         -0.007411\n",
      "latitude                        number_of_reviews                -0.007411\n",
      "availability_365                latitude                         -0.006793\n",
      "latitude                        availability_365                 -0.006793\n",
      "                                calculated_host_listings_count    0.019051\n",
      "calculated_host_listings_count  latitude                          0.019051\n",
      "minimum_nights                  latitude                          0.024824\n",
      "latitude                        minimum_nights                    0.024824\n",
      "number_of_reviews               longitude                         0.055967\n",
      "longitude                       number_of_reviews                 0.055967\n",
      "latitude                        longitude                         0.082567\n",
      "longitude                       latitude                          0.082567\n",
      "                                availability_365                  0.083446\n",
      "availability_365                longitude                         0.083446\n",
      "minimum_nights                  calculated_host_listings_count    0.114218\n",
      "calculated_host_listings_count  minimum_nights                    0.114218\n",
      "reviews_per_month               longitude                         0.134702\n",
      "longitude                       reviews_per_month                 0.134702\n",
      "availability_365                minimum_nights                    0.136383\n",
      "minimum_nights                  availability_365                  0.136383\n",
      "availability_365                reviews_per_month                 0.166007\n",
      "reviews_per_month               availability_365                  0.166007\n",
      "number_of_reviews               availability_365                  0.174931\n",
      "availability_365                number_of_reviews                 0.174931\n",
      "                                calculated_host_listings_count    0.226329\n",
      "calculated_host_listings_count  availability_365                  0.226329\n",
      "reviews_per_month               number_of_reviews                 0.591234\n",
      "number_of_reviews               reviews_per_month                 0.591234\n",
      "latitude                        latitude                          1.000000\n",
      "number_of_reviews               number_of_reviews                 1.000000\n",
      "reviews_per_month               reviews_per_month                 1.000000\n",
      "minimum_nights                  minimum_nights                    1.000000\n",
      "longitude                       longitude                         1.000000\n",
      "calculated_host_listings_count  calculated_host_listings_count    1.000000\n",
      "availability_365                availability_365                  1.000000\n",
      "dtype: float64\n"
     ]
    }
   ],
   "source": [
    "corr_sorted = corr_pairs.sort_values(kind=\"quicksort\")\n",
    "print(corr_sorted)"
   ]
  },
  {
   "cell_type": "markdown",
   "metadata": {},
   "source": [
    "* The two features that have the biggest correlation in this dataset are :  \n",
    "    `number_of_reviews   &&   reviews_per_month    with a correlation =       0.591234`"
   ]
  },
  {
   "cell_type": "markdown",
   "metadata": {},
   "source": [
    "* Make price binary"
   ]
  },
  {
   "cell_type": "code",
   "execution_count": 17,
   "metadata": {},
   "outputs": [],
   "source": [
    "# use (y_train >= 152).astype(int) or np.where(y_train >= 152, 1, 0)\n",
    "y_train_above_average = (y_train >= 152).astype(int)  \n",
    "y_val_above_average = np.where(y_val >= 152, 1, 0)\n",
    "y_test_above_average = np.where(y_test >= 152, 1, 0)  "
   ]
  },
  {
   "cell_type": "markdown",
   "metadata": {},
   "source": [
    "## Question 3\n",
    "\n",
    "* Calculate the mutual information score with the (binarized) price for the two categorical variables that we have. Use the training set only.\n",
    "* Which of these two variables has bigger score?\n",
    "* Round it to 2 decimal digits using `round(score, 2)`"
   ]
  },
  {
   "cell_type": "code",
   "execution_count": 18,
   "metadata": {},
   "outputs": [],
   "source": [
    "from sklearn.metrics import mutual_info_score"
   ]
  },
  {
   "cell_type": "code",
   "execution_count": 19,
   "metadata": {},
   "outputs": [
    {
     "name": "stdout",
     "output_type": "stream",
     "text": [
      "The mutual information score for neighbourhood group and binarized price is 0.05.\n"
     ]
    }
   ],
   "source": [
    "print('The mutual information score for neighbourhood group and binarized price is {0}.'.format(round(mutual_info_score(y_train_above_average, df_train.neighbourhood_group),2)))"
   ]
  },
  {
   "cell_type": "code",
   "execution_count": 20,
   "metadata": {},
   "outputs": [
    {
     "name": "stdout",
     "output_type": "stream",
     "text": [
      "The mutual information score for room type and binarized price is 0.14.\n"
     ]
    }
   ],
   "source": [
    "print('The mutual information score for room type and binarized price is {0}.'.format(round(mutual_info_score(y_train_above_average, df_train.room_type),2)))"
   ]
  },
  {
   "cell_type": "markdown",
   "metadata": {},
   "source": [
    "* `room_type` and `above_avarage` has got the bigger score for mutual informations."
   ]
  },
  {
   "cell_type": "markdown",
   "metadata": {},
   "source": [
    "## Question 4\n",
    "\n",
    "* Now let's train a logistic regression\n",
    "* Remember that we have two categorical variables in the data. Include them using one-hot encoding.\n",
    "* Fit the model on the training dataset.\n",
    "    * To make sure the results are reproducible across different versions of Scikit-Learn, fit the model with these parameters:\n",
    "    * `model = LogisticRegression(solver='lbfgs', C=1.0, random_state=42)`\n",
    "* Calculate the accuracy on the validation dataset and rount it to 2 decimal digits."
   ]
  },
  {
   "cell_type": "code",
   "execution_count": 21,
   "metadata": {},
   "outputs": [
    {
     "name": "stdout",
     "output_type": "stream",
     "text": [
      "<class 'pandas.core.frame.DataFrame'>\n",
      "RangeIndex: 31292 entries, 0 to 31291\n",
      "Data columns (total 9 columns):\n",
      " #   Column                          Non-Null Count  Dtype  \n",
      "---  ------                          --------------  -----  \n",
      " 0   neighbourhood_group             31292 non-null  object \n",
      " 1   latitude                        31292 non-null  float64\n",
      " 2   longitude                       31292 non-null  float64\n",
      " 3   room_type                       31292 non-null  object \n",
      " 4   minimum_nights                  31292 non-null  int64  \n",
      " 5   number_of_reviews               31292 non-null  int64  \n",
      " 6   reviews_per_month               31292 non-null  float64\n",
      " 7   calculated_host_listings_count  31292 non-null  int64  \n",
      " 8   availability_365                31292 non-null  int64  \n",
      "dtypes: float64(3), int64(4), object(2)\n",
      "memory usage: 2.1+ MB\n"
     ]
    }
   ],
   "source": [
    "df_train.info()"
   ]
  },
  {
   "cell_type": "code",
   "execution_count": 22,
   "metadata": {},
   "outputs": [
    {
     "data": {
      "image/png": "[encoded data removed]",
      "text/plain": [
       "<Figure size 864x864 with 2 Axes>"
      ]
     },
     "metadata": {
      "needs_background": "light"
     },
     "output_type": "display_data"
    }
   ],
   "source": [
    "#Get Correlation between different variables\n",
    "corr = df_train.corr(method='kendall')\n",
    "plt.figure(figsize=(12,12))\n",
    "sns.heatmap(corr, annot=True)\n",
    "plt.show()"
   ]
  },
  {
   "cell_type": "markdown",
   "metadata": {},
   "source": [
    "### One-hot encoding\n"
   ]
  },
  {
   "cell_type": "code",
   "execution_count": 23,
   "metadata": {},
   "outputs": [],
   "source": [
    "from sklearn.feature_extraction import DictVectorizer"
   ]
  },
  {
   "cell_type": "code",
   "execution_count": 24,
   "metadata": {},
   "outputs": [],
   "source": [
    "dv = DictVectorizer(sparse=False)\n",
    "\n",
    "train_dict = df_train.to_dict(orient='records')\n",
    "X_train = dv.fit_transform(train_dict)\n",
    "\n",
    "val_dict = df_val.to_dict(orient='records')\n",
    "X_val = dv.transform(val_dict)"
   ]
  },
  {
   "cell_type": "code",
   "execution_count": 25,
   "metadata": {},
   "outputs": [],
   "source": [
    "from sklearn.linear_model import LogisticRegression"
   ]
  },
  {
   "cell_type": "code",
   "execution_count": 26,
   "metadata": {},
   "outputs": [
    {
     "name": "stdout",
     "output_type": "stream",
     "text": [
      "Wall time: 314 ms\n"
     ]
    },
    {
     "data": {
      "text/plain": [
       "LogisticRegression(C=1.0, class_weight=None, dual=False, fit_intercept=True,\n",
       "                   intercept_scaling=1, l1_ratio=None, max_iter=100,\n",
       "                   multi_class='auto', n_jobs=None, penalty='l2',\n",
       "                   random_state=42, solver='liblinear', tol=0.0001, verbose=0,\n",
       "                   warm_start=False)"
      ]
     },
     "execution_count": 26,
     "metadata": {},
     "output_type": "execute_result"
    }
   ],
   "source": [
    "%%time\n",
    "model = LogisticRegression(solver='liblinear', C=1.0, random_state=42)\n",
    "model.fit(X_train, y_train_above_average)"
   ]
  },
  {
   "cell_type": "code",
   "execution_count": 27,
   "metadata": {},
   "outputs": [
    {
     "data": {
      "text/plain": [
       "-0.09952314935355036"
      ]
     },
     "execution_count": 27,
     "metadata": {},
     "output_type": "execute_result"
    }
   ],
   "source": [
    "model.intercept_[0]"
   ]
  },
  {
   "cell_type": "code",
   "execution_count": 28,
   "metadata": {},
   "outputs": [
    {
     "data": {
      "text/plain": [
       "array([ 3.000e-03,  4.000e-03, -5.967e+00, -3.249e+00, -1.000e-02,\n",
       "       -7.900e-02,  1.130e-01,  1.579e+00, -4.000e-03, -1.708e+00,\n",
       "       -4.000e-03, -3.400e-02,  1.948e+00, -8.100e-01, -1.238e+00])"
      ]
     },
     "execution_count": 28,
     "metadata": {},
     "output_type": "execute_result"
    }
   ],
   "source": [
    "model.coef_[0].round(3)"
   ]
  },
  {
   "cell_type": "code",
   "execution_count": 29,
   "metadata": {},
   "outputs": [
    {
     "data": {
      "text/plain": [
       "{'availability_365': 0.003,\n",
       " 'calculated_host_listings_count': 0.004,\n",
       " 'latitude': -5.967,\n",
       " 'longitude': -3.249,\n",
       " 'minimum_nights': -0.01,\n",
       " 'neighbourhood_group=Bronx': -0.079,\n",
       " 'neighbourhood_group=Brooklyn': 0.113,\n",
       " 'neighbourhood_group=Manhattan': 1.579,\n",
       " 'neighbourhood_group=Queens': -0.004,\n",
       " 'neighbourhood_group=Staten Island': -1.708,\n",
       " 'number_of_reviews': -0.004,\n",
       " 'reviews_per_month': -0.034,\n",
       " 'room_type=Entire home/apt': 1.948,\n",
       " 'room_type=Private room': -0.81,\n",
       " 'room_type=Shared room': -1.238}"
      ]
     },
     "execution_count": 29,
     "metadata": {},
     "output_type": "execute_result"
    }
   ],
   "source": [
    "dict(zip(dv.get_feature_names(), model.coef_[0].round(3)))"
   ]
  },
  {
   "cell_type": "code",
   "execution_count": 30,
   "metadata": {},
   "outputs": [],
   "source": [
    "y_pred = model.predict_proba(X_val)[:, 1]"
   ]
  },
  {
   "cell_type": "code",
   "execution_count": 31,
   "metadata": {},
   "outputs": [],
   "source": [
    "above_avg_price_decision = (y_pred >= 0.5)"
   ]
  },
  {
   "cell_type": "code",
   "execution_count": 32,
   "metadata": {},
   "outputs": [
    {
     "data": {
      "text/plain": [
       "0.0"
      ]
     },
     "execution_count": 32,
     "metadata": {},
     "output_type": "execute_result"
    }
   ],
   "source": [
    "(y_val == above_avg_price_decision).mean()"
   ]
  },
  {
   "cell_type": "code",
   "execution_count": 33,
   "metadata": {},
   "outputs": [
    {
     "data": {
      "text/plain": [
       "array([0, 1, 0, ..., 0, 1, 0])"
      ]
     },
     "execution_count": 33,
     "metadata": {},
     "output_type": "execute_result"
    }
   ],
   "source": [
    "above_avg_price_decision.astype(int)"
   ]
  },
  {
   "cell_type": "code",
   "execution_count": 34,
   "metadata": {},
   "outputs": [],
   "source": [
    "df_pred = pd.DataFrame()\n",
    "df_pred['probability'] = y_pred\n",
    "df_pred['prediction'] = above_avg_price_decision.astype(int)\n",
    "df_pred['actual'] = y_val_above_average\n",
    "df_pred['correct'] = df_pred.prediction == df_pred.actual"
   ]
  },
  {
   "cell_type": "code",
   "execution_count": 35,
   "metadata": {},
   "outputs": [
    {
     "data": {
      "text/html": [
       "<div>\n",
       "<style scoped>\n",
       "    .dataframe tbody tr th:only-of-type {\n",
       "        vertical-align: middle;\n",
       "    }\n",
       "\n",
       "    .dataframe tbody tr th {\n",
       "        vertical-align: top;\n",
       "    }\n",
       "\n",
       "    .dataframe thead th {\n",
       "        text-align: right;\n",
       "    }\n",
       "</style>\n",
       "<table border=\"1\" class=\"dataframe\">\n",
       "  <thead>\n",
       "    <tr style=\"text-align: right;\">\n",
       "      <th></th>\n",
       "      <th>probability</th>\n",
       "      <th>prediction</th>\n",
       "      <th>actual</th>\n",
       "      <th>correct</th>\n",
       "    </tr>\n",
       "  </thead>\n",
       "  <tbody>\n",
       "    <tr>\n",
       "      <th>0</th>\n",
       "      <td>0.028764</td>\n",
       "      <td>0</td>\n",
       "      <td>0</td>\n",
       "      <td>True</td>\n",
       "    </tr>\n",
       "    <tr>\n",
       "      <th>1</th>\n",
       "      <td>0.591627</td>\n",
       "      <td>1</td>\n",
       "      <td>0</td>\n",
       "      <td>False</td>\n",
       "    </tr>\n",
       "    <tr>\n",
       "      <th>2</th>\n",
       "      <td>0.413871</td>\n",
       "      <td>0</td>\n",
       "      <td>1</td>\n",
       "      <td>False</td>\n",
       "    </tr>\n",
       "    <tr>\n",
       "      <th>3</th>\n",
       "      <td>0.075215</td>\n",
       "      <td>0</td>\n",
       "      <td>0</td>\n",
       "      <td>True</td>\n",
       "    </tr>\n",
       "    <tr>\n",
       "      <th>4</th>\n",
       "      <td>0.813277</td>\n",
       "      <td>1</td>\n",
       "      <td>1</td>\n",
       "      <td>True</td>\n",
       "    </tr>\n",
       "  </tbody>\n",
       "</table>\n",
       "</div>"
      ],
      "text/plain": [
       "   probability  prediction  actual  correct\n",
       "0     0.028764           0       0     True\n",
       "1     0.591627           1       0    False\n",
       "2     0.413871           0       1    False\n",
       "3     0.075215           0       0     True\n",
       "4     0.813277           1       1     True"
      ]
     },
     "execution_count": 35,
     "metadata": {},
     "output_type": "execute_result"
    }
   ],
   "source": [
    "df_pred.head()"
   ]
  },
  {
   "cell_type": "code",
   "execution_count": 36,
   "metadata": {},
   "outputs": [
    {
     "data": {
      "text/plain": [
       "0.79"
      ]
     },
     "execution_count": 36,
     "metadata": {},
     "output_type": "execute_result"
    }
   ],
   "source": [
    "round(df_pred.correct.mean(),2)"
   ]
  },
  {
   "cell_type": "markdown",
   "metadata": {},
   "source": [
    "* **The accuracy is** 0.79."
   ]
  },
  {
   "cell_type": "markdown",
   "metadata": {},
   "source": [
    "## Question 5\n",
    "\n",
    "* We have 9 features: 7 numerical features and 2 categorical.\n",
    "* Let's find the least useful one using the feature elimination technique.\n",
    "* Train a model with all these features (using the same parameters as in Q4).\n",
    "* Now exclude each feature from this set and train a model without it. Record the accuracy for each model.\n",
    "* For each feature, calculate the difference between the original accuracy and the accuracy without the feature.\n",
    "* Which of following feature has the smallest difference?\n",
    "    * neighbourhood_group\n",
    "    * room_type\n",
    "    * number_of_reviews\n",
    "    * reviews_per_month\n",
    "\n",
    "> note: the difference doesn't have to be positive"
   ]
  },
  {
   "cell_type": "markdown",
   "metadata": {},
   "source": [
    "### Using all Features "
   ]
  },
  {
   "cell_type": "code",
   "execution_count": 37,
   "metadata": {},
   "outputs": [
    {
     "name": "stdout",
     "output_type": "stream",
     "text": [
      "Accuracy for the model with all features is 0.79.\n"
     ]
    }
   ],
   "source": [
    "# model trained with all variables\n",
    "model = LogisticRegression(solver='liblinear', C=1.0, random_state=42)\n",
    "model.fit(X_train, y_train_above_average)\n",
    "y_pred = model.predict_proba(X_val)[:, 1]\n",
    "above_avg_price_decision = (y_pred >= 0.5)\n",
    "df_pred_all = pd.DataFrame()\n",
    "df_pred_all['probability'] = y_pred\n",
    "df_pred_all['prediction'] = above_avg_price_decision.astype(int)\n",
    "df_pred_all['actual'] = y_val_above_average\n",
    "df_pred_all['correct'] = df_pred_all.prediction == df_pred_all.actual\n",
    "model_1_acc = round(df_pred_all.correct.mean(),2)\n",
    "print('Accuracy for the model with all features is {0}.'.format(model_1_acc))"
   ]
  },
  {
   "cell_type": "code",
   "execution_count": 38,
   "metadata": {},
   "outputs": [],
   "source": [
    "# removed room_type\n",
    "model_2_features = ['availability_365','calculated_host_listings_count','latitude','longitude','minimum_nights','neighbourhood_group','number_of_reviews','reviews_per_month']\n",
    "\n",
    "# removed reviews_per_month\n",
    "model_3_features = ['availability_365','calculated_host_listings_count','latitude','longitude','minimum_nights','neighbourhood_group','number_of_reviews','room_type']\n",
    "\n",
    "# removed number_of_reviews\n",
    "model_4_features = ['availability_365','calculated_host_listings_count','latitude','longitude','minimum_nights','neighbourhood_group','reviews_per_month','room_type']\n",
    "\n",
    "# removed neighbourhood_group\n",
    "model_5_features = ['availability_365','calculated_host_listings_count','latitude','longitude','minimum_nights','number_of_reviews','reviews_per_month','room_type']\n",
    "\n",
    "# removed minimum_nights\n",
    "model_6_features = ['availability_365','calculated_host_listings_count','latitude','longitude','neighbourhood_group','number_of_reviews','reviews_per_month','room_type']\n",
    "\n",
    "# removed longitude\n",
    "model_7_features = ['availability_365','calculated_host_listings_count','latitude','minimum_nights','neighbourhood_group','number_of_reviews','reviews_per_month','room_type']\n",
    "\n",
    "# removed latitude\n",
    "model_8_features = ['availability_365','calculated_host_listings_count','longitude','minimum_nights','neighbourhood_group','number_of_reviews','reviews_per_month','room_type']\n",
    "\n",
    "# removed calculated_host_listings_count\n",
    "model_9_features = ['availability_365','latitude','longitude','minimum_nights','neighbourhood_group','number_of_reviews','reviews_per_month','room_type']\n",
    "\n",
    "# removed availability_365\n",
    "model_10_features = ['calculated_host_listings_count','latitude','longitude','minimum_nights','neighbourhood_group','number_of_reviews','reviews_per_month','room_type']"
   ]
  },
  {
   "cell_type": "code",
   "execution_count": 39,
   "metadata": {},
   "outputs": [],
   "source": [
    "accuracy_scores = []"
   ]
  },
  {
   "cell_type": "markdown",
   "metadata": {},
   "source": [
    "#### Model 2 - Removed room_type"
   ]
  },
  {
   "cell_type": "code",
   "execution_count": 41,
   "metadata": {},
   "outputs": [
    {
     "name": "stdout",
     "output_type": "stream",
     "text": [
      "{'availability_365': 0.002, 'calculated_host_listings_count': 0.007, 'latitude': -7.839, 'longitude': -4.294, 'minimum_nights': -0.003, 'neighbourhood_group=Bronx': 0.132, 'neighbourhood_group=Brooklyn': 0.045, 'neighbourhood_group=Manhattan': 1.659, 'neighbourhood_group=Queens': -0.03, 'neighbourhood_group=Staten Island': -1.905, 'number_of_reviews': -0.002, 'reviews_per_month': -0.036}\n",
      "\n",
      "Model 2 accuracy is 0.73.\n"
     ]
    }
   ],
   "source": [
    "dicts_train_2 = df_train[model_2_features].to_dict(orient='records')\n",
    "dicts_val_2 = df_val[model_2_features].to_dict(orient='records')\n",
    "dv_2 = DictVectorizer(sparse=False)\n",
    "dv_2.fit(dicts_train_2)\n",
    "X_train_2 = dv_2.transform(dicts_train_2)\n",
    "X_val_2 = dv_2.transform(dicts_val_2)\n",
    "model_2 = LogisticRegression(solver='liblinear', C=1.0, random_state=42)\n",
    "model_2.fit(X_train_2, y_train_above_average)\n",
    "print(dict(zip(dv_2.get_feature_names(), model_2.coef_[0].round(3))))\n",
    "\n",
    "y_pred_2 = model_2.predict_proba(X_val_2)[:, 1]\n",
    "above_avg_price_decision_2 = (y_pred_2 >= 0.5)\n",
    "df_pred_2 = pd.DataFrame()\n",
    "df_pred_2['probability'] = y_pred_2\n",
    "df_pred_2['prediction'] = above_avg_price_decision_2.astype(int)\n",
    "df_pred_2['actual'] = y_val_above_average\n",
    "df_pred_2['correct'] = df_pred_2.prediction == df_pred_2.actual\n",
    "model_2_acc = round(df_pred_2.correct.mean(),2)\n",
    "accuracy_scores.append(model_2_acc)\n",
    "print('\\nModel 2 accuracy is {0}.'.format(model_2_acc))"
   ]
  },
  {
   "cell_type": "markdown",
   "metadata": {},
   "source": [
    "#### Model 3 - Removed reviews_per_month"
   ]
  },
  {
   "cell_type": "code",
   "execution_count": 42,
   "metadata": {},
   "outputs": [
    {
     "name": "stdout",
     "output_type": "stream",
     "text": [
      "{'availability_365': 0.003, 'calculated_host_listings_count': 0.004, 'latitude': -5.573, 'longitude': -3.031, 'minimum_nights': -0.01, 'neighbourhood_group=Bronx': -0.137, 'neighbourhood_group=Brooklyn': 0.141, 'neighbourhood_group=Manhattan': 1.579, 'neighbourhood_group=Queens': -0.03, 'neighbourhood_group=Staten Island': -1.627, 'number_of_reviews': -0.004, 'room_type=Entire home/apt': 1.954, 'room_type=Private room': -0.806, 'room_type=Shared room': -1.223}\n",
      "\n",
      "Model 3 accuracy is 0.79.\n"
     ]
    }
   ],
   "source": [
    "dicts_train_3 = df_train[model_3_features].to_dict(orient='records')\n",
    "dicts_val_3 = df_val[model_3_features].to_dict(orient='records')\n",
    "dv_3 = DictVectorizer(sparse=False)\n",
    "dv_3.fit(dicts_train_3)\n",
    "X_train_3 = dv_3.transform(dicts_train_3)\n",
    "X_val_3 = dv_3.transform(dicts_val_3)\n",
    "model_3 = LogisticRegression(solver='liblinear', C=1.0, random_state=42)\n",
    "model_3.fit(X_train_3, y_train_above_average)\n",
    "print(dict(zip(dv_3.get_feature_names(), model_3.coef_[0].round(3))))\n",
    "\n",
    "y_pred_3 = model_3.predict_proba(X_val_3)[:, 1]\n",
    "above_avg_price_decision_3 = (y_pred_3 >= 0.5)\n",
    "df_pred_3 = pd.DataFrame()\n",
    "df_pred_3['probability'] = y_pred_3\n",
    "df_pred_3['prediction'] = above_avg_price_decision_3.astype(int)\n",
    "df_pred_3['actual'] = y_val_above_average\n",
    "df_pred_3['correct'] = df_pred_3.prediction == df_pred_3.actual\n",
    "model_3_acc = round(df_pred_3.correct.mean(),2)\n",
    "accuracy_scores.append(model_3_acc)\n",
    "print('\\nModel 3 accuracy is {0}.'.format(model_3_acc))"
   ]
  },
  {
   "cell_type": "markdown",
   "metadata": {},
   "source": [
    "#### Model 4 - Removed number_of_reviews"
   ]
  },
  {
   "cell_type": "code",
   "execution_count": 43,
   "metadata": {},
   "outputs": [
    {
     "name": "stdout",
     "output_type": "stream",
     "text": [
      "{'availability_365': 0.003, 'calculated_host_listings_count': 0.004, 'latitude': -6.012, 'longitude': -3.273, 'minimum_nights': -0.01, 'neighbourhood_group=Bronx': -0.069, 'neighbourhood_group=Brooklyn': 0.11, 'neighbourhood_group=Manhattan': 1.59, 'neighbourhood_group=Queens': 0.025, 'neighbourhood_group=Staten Island': -1.746, 'reviews_per_month': -0.089, 'room_type=Entire home/apt': 1.92, 'room_type=Private room': -0.829, 'room_type=Shared room': -1.181}\n",
      "\n",
      "Model 4 accuracy is 0.79.\n"
     ]
    }
   ],
   "source": [
    "dicts_train_4 = df_train[model_4_features].to_dict(orient='records')\n",
    "dicts_val_4 = df_val[model_4_features].to_dict(orient='records')\n",
    "dv_4 = DictVectorizer(sparse=False)\n",
    "dv_4.fit(dicts_train_4)\n",
    "X_train_4 = dv_4.transform(dicts_train_4)\n",
    "X_val_4 = dv_4.transform(dicts_val_4)\n",
    "model_4 = LogisticRegression(solver='liblinear', C=1.0, random_state=42)\n",
    "model_4.fit(X_train_4, y_train_above_average)\n",
    "print(dict(zip(dv_4.get_feature_names(), model_4.coef_[0].round(3))))\n",
    "\n",
    "y_pred_4 = model_4.predict_proba(X_val_4)[:, 1]\n",
    "above_avg_price_decision_4 = (y_pred_4 >= 0.5)\n",
    "df_pred_4 = pd.DataFrame()\n",
    "df_pred_4['probability'] = y_pred_4\n",
    "df_pred_4['prediction'] = above_avg_price_decision_4.astype(int)\n",
    "df_pred_4['actual'] = y_val_above_average\n",
    "df_pred_4['correct'] = df_pred_4.prediction == df_pred_4.actual\n",
    "model_4_acc = round(df_pred_4.correct.mean(),2)\n",
    "accuracy_scores.append(model_4_acc)\n",
    "print('\\nModel 4 accuracy is {0}.'.format(model_4_acc))"
   ]
  },
  {
   "cell_type": "markdown",
   "metadata": {},
   "source": [
    "#### Model 5 - Removed neighbourhood_group"
   ]
  },
  {
   "cell_type": "code",
   "execution_count": 44,
   "metadata": {},
   "outputs": [
    {
     "name": "stdout",
     "output_type": "stream",
     "text": [
      "{'availability_365': 0.002, 'calculated_host_listings_count': 0.008, 'latitude': -0.806, 'longitude': -0.419, 'minimum_nights': -0.007, 'number_of_reviews': -0.004, 'reviews_per_month': -0.063, 'room_type=Entire home/apt': 1.968, 'room_type=Private room': -0.861, 'room_type=Shared room': -1.226}\n",
      "\n",
      "Model 5 accuracy is 0.75.\n"
     ]
    }
   ],
   "source": [
    "dicts_train_5 = df_train[model_5_features].to_dict(orient='records')\n",
    "dicts_val_5 = df_val[model_5_features].to_dict(orient='records')\n",
    "dv_5 = DictVectorizer(sparse=False)\n",
    "dv_5.fit(dicts_train_5)\n",
    "X_train_5 = dv_5.transform(dicts_train_5)\n",
    "X_val_5 = dv_5.transform(dicts_val_5)\n",
    "model_5 = LogisticRegression(solver='liblinear', C=1.0, random_state=42)\n",
    "model_5.fit(X_train_5, y_train_above_average)\n",
    "print(dict(zip(dv_5.get_feature_names(), model_5.coef_[0].round(3))))\n",
    "\n",
    "y_pred_5 = model_5.predict_proba(X_val_5)[:, 1]\n",
    "above_avg_price_decision_5 = (y_pred_5 >= 0.5)\n",
    "df_pred_5 = pd.DataFrame()\n",
    "df_pred_5['probability'] = y_pred_5\n",
    "df_pred_5['prediction'] = above_avg_price_decision_5.astype(int)\n",
    "df_pred_5['actual'] = y_val_above_average\n",
    "df_pred_5['correct'] = df_pred_5.prediction == df_pred_5.actual\n",
    "model_5_acc = round(df_pred_5.correct.mean(),2)\n",
    "accuracy_scores.append(model_5_acc)\n",
    "print('\\nModel 5 accuracy is {0}.'.format(model_5_acc))\n"
   ]
  },
  {
   "cell_type": "markdown",
   "metadata": {},
   "source": [
    "#### Model 6 - Removed minimum_nights"
   ]
  },
  {
   "cell_type": "code",
   "execution_count": 45,
   "metadata": {},
   "outputs": [
    {
     "name": "stdout",
     "output_type": "stream",
     "text": [
      "{'availability_365': 0.003, 'calculated_host_listings_count': 0.003, 'latitude': -5.93, 'longitude': -3.228, 'neighbourhood_group=Bronx': -0.054, 'neighbourhood_group=Brooklyn': 0.112, 'neighbourhood_group=Manhattan': 1.556, 'neighbourhood_group=Queens': 0.011, 'neighbourhood_group=Staten Island': -1.707, 'number_of_reviews': -0.003, 'reviews_per_month': -0.015, 'room_type=Entire home/apt': 1.915, 'room_type=Private room': -0.804, 'room_type=Shared room': -1.193}\n",
      "\n",
      "Model 6 accuracy is 0.79.\n"
     ]
    }
   ],
   "source": [
    "dicts_train_6 = df_train[model_6_features].to_dict(orient='records')\n",
    "dicts_val_6 = df_val[model_6_features].to_dict(orient='records')\n",
    "dv_6 = DictVectorizer(sparse=False)\n",
    "dv_6.fit(dicts_train_6)\n",
    "X_train_6 = dv_6.transform(dicts_train_6)\n",
    "X_val_6 = dv_6.transform(dicts_val_6)\n",
    "model_6 = LogisticRegression(solver='liblinear', C=1.0, random_state=42)\n",
    "model_6.fit(X_train_6, y_train_above_average)\n",
    "print(dict(zip(dv_6.get_feature_names(), model_6.coef_[0].round(3))))\n",
    "\n",
    "y_pred_6 = model_6.predict_proba(X_val_6)[:, 1]\n",
    "above_avg_price_decision_6 = (y_pred_6 >= 0.5)\n",
    "df_pred_6 = pd.DataFrame()\n",
    "df_pred_6['probability'] = y_pred_6\n",
    "df_pred_6['prediction'] = above_avg_price_decision_6.astype(int)\n",
    "df_pred_6['actual'] = y_val_above_average\n",
    "df_pred_6['correct'] = df_pred_6.prediction == df_pred_6.actual\n",
    "model_6_acc = round(df_pred_6.correct.mean(),2)\n",
    "accuracy_scores.append(model_6_acc)\n",
    "\n",
    "print('\\nModel 6 accuracy is {0}.'.format(model_6_acc))"
   ]
  },
  {
   "cell_type": "markdown",
   "metadata": {},
   "source": [
    "#### Model 7 - Removed longitude"
   ]
  },
  {
   "cell_type": "code",
   "execution_count": 46,
   "metadata": {},
   "outputs": [
    {
     "name": "stdout",
     "output_type": "stream",
     "text": [
      "{'availability_365': 0.003, 'calculated_host_listings_count': 0.004, 'latitude': -0.072, 'minimum_nights': -0.01, 'neighbourhood_group=Bronx': -1.032, 'neighbourhood_group=Brooklyn': 0.384, 'neighbourhood_group=Manhattan': 1.449, 'neighbourhood_group=Queens': -0.251, 'neighbourhood_group=Staten Island': -0.517, 'number_of_reviews': -0.004, 'reviews_per_month': -0.033, 'room_type=Entire home/apt': 1.998, 'room_type=Private room': -0.811, 'room_type=Shared room': -1.155}\n",
      "\n",
      "Model 7 accuracy is 0.79.\n"
     ]
    }
   ],
   "source": [
    "dicts_train_7 = df_train[model_7_features].to_dict(orient='records')\n",
    "dicts_val_7 = df_val[model_7_features].to_dict(orient='records')\n",
    "dv_7 = DictVectorizer(sparse=False)\n",
    "dv_7.fit(dicts_train_7)\n",
    "X_train_7 = dv_7.transform(dicts_train_7)\n",
    "X_val_7 = dv_7.transform(dicts_val_7)\n",
    "model_7 = LogisticRegression(solver='liblinear', C=1.0, random_state=42)\n",
    "model_7.fit(X_train_7, y_train_above_average)\n",
    "print(dict(zip(dv_7.get_feature_names(), model_7.coef_[0].round(3))))\n",
    "\n",
    "y_pred_7 = model_7.predict_proba(X_val_7)[:, 1]\n",
    "above_avg_price_decision_7 = (y_pred_7 >= 0.5)\n",
    "df_pred_7 = pd.DataFrame()\n",
    "df_pred_7['probability'] = y_pred_7\n",
    "df_pred_7['prediction'] = above_avg_price_decision_7.astype(int)\n",
    "df_pred_7['actual'] = y_val_above_average\n",
    "df_pred_7['correct'] = df_pred_7.prediction == df_pred_7.actual\n",
    "model_7_acc = round(df_pred_7.correct.mean(),2)\n",
    "accuracy_scores.append(model_7_acc)\n",
    "\n",
    "print('\\nModel 7 accuracy is {0}.'.format(model_7_acc))"
   ]
  },
  {
   "cell_type": "markdown",
   "metadata": {},
   "source": [
    "#### Model 8 - Removed latitude"
   ]
  },
  {
   "cell_type": "code",
   "execution_count": 47,
   "metadata": {},
   "outputs": [
    {
     "name": "stdout",
     "output_type": "stream",
     "text": [
      "{'availability_365': 0.003, 'calculated_host_listings_count': 0.004, 'longitude': 0.038, 'minimum_nights': -0.01, 'neighbourhood_group=Bronx': -1.044, 'neighbourhood_group=Brooklyn': 0.359, 'neighbourhood_group=Manhattan': 1.419, 'neighbourhood_group=Queens': -0.281, 'neighbourhood_group=Staten Island': -0.474, 'number_of_reviews': -0.004, 'reviews_per_month': -0.033, 'room_type=Entire home/apt': 1.972, 'room_type=Private room': -0.837, 'room_type=Shared room': -1.156}\n",
      "\n",
      "Model 8 accuracy is 0.79.\n"
     ]
    }
   ],
   "source": [
    "dicts_train_8 = df_train[model_8_features].to_dict(orient='records')\n",
    "dicts_val_8 = df_val[model_8_features].to_dict(orient='records')\n",
    "dv_8 = DictVectorizer(sparse=False)\n",
    "dv_8.fit(dicts_train_8)\n",
    "X_train_8 = dv_8.transform(dicts_train_8)\n",
    "X_val_8 = dv_8.transform(dicts_val_8)\n",
    "model_8 = LogisticRegression(solver='liblinear', C=1.0, random_state=42)\n",
    "model_8.fit(X_train_8, y_train_above_average)\n",
    "print(dict(zip(dv_8.get_feature_names(), model_8.coef_[0].round(3))))\n",
    "\n",
    "y_pred_8 = model_8.predict_proba(X_val_8)[:, 1]\n",
    "above_avg_price_decision_8 = (y_pred_8 >= 0.5)\n",
    "df_pred_8 = pd.DataFrame()\n",
    "df_pred_8['probability'] = y_pred_8\n",
    "df_pred_8['prediction'] = above_avg_price_decision_8.astype(int)\n",
    "df_pred_8['actual'] = y_val_above_average\n",
    "df_pred_8['correct'] = df_pred_8.prediction == df_pred_8.actual\n",
    "model_8_acc = round(df_pred_8.correct.mean(),2)\n",
    "accuracy_scores.append(model_8_acc)\n",
    "print('\\nModel 8 accuracy is {0}.'.format(model_8_acc))"
   ]
  },
  {
   "cell_type": "markdown",
   "metadata": {},
   "source": [
    "#### Model 9 - Removed calculated_host_listings_count"
   ]
  },
  {
   "cell_type": "code",
   "execution_count": 48,
   "metadata": {},
   "outputs": [
    {
     "name": "stdout",
     "output_type": "stream",
     "text": [
      "{'availability_365': 0.003, 'latitude': -6.035, 'longitude': -3.286, 'minimum_nights': -0.009, 'neighbourhood_group=Bronx': -0.004, 'neighbourhood_group=Brooklyn': 0.14, 'neighbourhood_group=Manhattan': 1.637, 'neighbourhood_group=Queens': 0.028, 'neighbourhood_group=Staten Island': -1.878, 'number_of_reviews': -0.004, 'reviews_per_month': -0.036, 'room_type=Entire home/apt': 1.936, 'room_type=Private room': -0.839, 'room_type=Shared room': -1.175}\n",
      "\n",
      "Model 9 accuracy is 0.79.\n"
     ]
    }
   ],
   "source": [
    "dicts_train_9 = df_train[model_9_features].to_dict(orient='records')\n",
    "dicts_val_9 = df_val[model_9_features].to_dict(orient='records')\n",
    "dv_9 = DictVectorizer(sparse=False)\n",
    "dv_9.fit(dicts_train_9)\n",
    "X_train_9 = dv_9.transform(dicts_train_9)\n",
    "X_val_9 = dv_9.transform(dicts_val_9)\n",
    "model_9 = LogisticRegression(solver='liblinear', C=1.0, random_state=42)\n",
    "model_9.fit(X_train_9, y_train_above_average)\n",
    "print(dict(zip(dv_9.get_feature_names(), model_9.coef_[0].round(3))))\n",
    "\n",
    "y_pred_9 = model_9.predict_proba(X_val_9)[:, 1]\n",
    "above_avg_price_decision_9 = (y_pred_9 >= 0.5)\n",
    "df_pred_9 = pd.DataFrame()\n",
    "df_pred_9['probability'] = y_pred_9\n",
    "df_pred_9['prediction'] = above_avg_price_decision_9.astype(int)\n",
    "df_pred_9['actual'] = y_val_above_average\n",
    "df_pred_9['correct'] = df_pred_9.prediction == df_pred_9.actual\n",
    "model_9_acc = round(df_pred_9.correct.mean(),2)\n",
    "accuracy_scores.append(model_9_acc)\n",
    "print('\\nModel 9 accuracy is {0}.'.format(model_9_acc))"
   ]
  },
  {
   "cell_type": "markdown",
   "metadata": {},
   "source": [
    "#### Model 10 - Removed availability_365"
   ]
  },
  {
   "cell_type": "code",
   "execution_count": 49,
   "metadata": {},
   "outputs": [
    {
     "name": "stdout",
     "output_type": "stream",
     "text": [
      "\n",
      "Model 10 accuracy is 0.78.\n"
     ]
    }
   ],
   "source": [
    "dicts_train_10 = df_train[model_10_features].to_dict(orient='records')\n",
    "dicts_val_10 = df_val[model_10_features].to_dict(orient='records')\n",
    "dv_10 = DictVectorizer(sparse=False)\n",
    "dv_10.fit(dicts_train_10)\n",
    "X_train_10 = dv_10.transform(dicts_train_10)\n",
    "X_val_10 = dv_10.transform(dicts_val_10)\n",
    "model_10 = LogisticRegression(solver='liblinear', C=1.0, random_state=42)\n",
    "model_10.fit(X_train_10, y_train_above_average)\n",
    "dict(zip(dv_10.get_feature_names(), model_10.coef_[0].round(3)))\n",
    "\n",
    "y_pred_10 = model_10.predict_proba(X_val_10)[:, 1]\n",
    "above_avg_price_decision_10 = (y_pred_10 >= 0.5)\n",
    "df_pred_10 = pd.DataFrame()\n",
    "df_pred_10['probability'] = y_pred_10\n",
    "df_pred_10['prediction'] = above_avg_price_decision_10.astype(int)\n",
    "df_pred_10['actual'] = y_val_above_average\n",
    "df_pred_10['correct'] = df_pred_10.prediction == df_pred_10.actual\n",
    "model_10_acc = round(df_pred_10.correct.mean(),2)\n",
    "accuracy_scores.append(model_10_acc)\n",
    "print('\\nModel 10 accuracy is {0}.'.format(model_10_acc))"
   ]
  },
  {
   "cell_type": "code",
   "execution_count": 69,
   "metadata": {},
   "outputs": [
    {
     "data": {
      "text/html": [
       "<style  type=\"text/css\" >\n",
       "    #T_8d43b588_1f16_11ec_baf4_0c8bfd751f74row0_col2 {\n",
       "            : ;\n",
       "            background-color:  red;\n",
       "        }    #T_8d43b588_1f16_11ec_baf4_0c8bfd751f74row0_col3 {\n",
       "            : ;\n",
       "            background-color:  red;\n",
       "        }    #T_8d43b588_1f16_11ec_baf4_0c8bfd751f74row1_col2 {\n",
       "            background-color:  yellow;\n",
       "            : ;\n",
       "        }    #T_8d43b588_1f16_11ec_baf4_0c8bfd751f74row1_col3 {\n",
       "            background-color:  yellow;\n",
       "            : ;\n",
       "        }    #T_8d43b588_1f16_11ec_baf4_0c8bfd751f74row2_col2 {\n",
       "            : ;\n",
       "            background-color:  red;\n",
       "        }    #T_8d43b588_1f16_11ec_baf4_0c8bfd751f74row2_col3 {\n",
       "            : ;\n",
       "            background-color:  red;\n",
       "        }    #T_8d43b588_1f16_11ec_baf4_0c8bfd751f74row3_col2 {\n",
       "            : ;\n",
       "            background-color:  red;\n",
       "        }    #T_8d43b588_1f16_11ec_baf4_0c8bfd751f74row3_col3 {\n",
       "            : ;\n",
       "            background-color:  red;\n",
       "        }    #T_8d43b588_1f16_11ec_baf4_0c8bfd751f74row5_col2 {\n",
       "            : ;\n",
       "            background-color:  red;\n",
       "        }    #T_8d43b588_1f16_11ec_baf4_0c8bfd751f74row5_col3 {\n",
       "            : ;\n",
       "            background-color:  red;\n",
       "        }    #T_8d43b588_1f16_11ec_baf4_0c8bfd751f74row6_col2 {\n",
       "            : ;\n",
       "            background-color:  red;\n",
       "        }    #T_8d43b588_1f16_11ec_baf4_0c8bfd751f74row6_col3 {\n",
       "            : ;\n",
       "            background-color:  red;\n",
       "        }    #T_8d43b588_1f16_11ec_baf4_0c8bfd751f74row7_col2 {\n",
       "            : ;\n",
       "            background-color:  red;\n",
       "        }    #T_8d43b588_1f16_11ec_baf4_0c8bfd751f74row7_col3 {\n",
       "            : ;\n",
       "            background-color:  red;\n",
       "        }    #T_8d43b588_1f16_11ec_baf4_0c8bfd751f74row8_col2 {\n",
       "            : ;\n",
       "            background-color:  red;\n",
       "        }    #T_8d43b588_1f16_11ec_baf4_0c8bfd751f74row8_col3 {\n",
       "            : ;\n",
       "            background-color:  red;\n",
       "        }</style><table id=\"T_8d43b588_1f16_11ec_baf4_0c8bfd751f74\" ><thead>    <tr>        <th class=\"blank level0\" ></th>        <th class=\"col_heading level0 col0\" >model</th>        <th class=\"col_heading level0 col1\" >desc</th>        <th class=\"col_heading level0 col2\" >accuracy</th>        <th class=\"col_heading level0 col3\" >diff_model_1_acc</th>    </tr></thead><tbody>\n",
       "                <tr>\n",
       "                        <th id=\"T_8d43b588_1f16_11ec_baf4_0c8bfd751f74level0_row0\" class=\"row_heading level0 row0\" >0</th>\n",
       "                        <td id=\"T_8d43b588_1f16_11ec_baf4_0c8bfd751f74row0_col0\" class=\"data row0 col0\" >Model 1</td>\n",
       "                        <td id=\"T_8d43b588_1f16_11ec_baf4_0c8bfd751f74row0_col1\" class=\"data row0 col1\" >All</td>\n",
       "                        <td id=\"T_8d43b588_1f16_11ec_baf4_0c8bfd751f74row0_col2\" class=\"data row0 col2\" >0.790000</td>\n",
       "                        <td id=\"T_8d43b588_1f16_11ec_baf4_0c8bfd751f74row0_col3\" class=\"data row0 col3\" >0.000000</td>\n",
       "            </tr>\n",
       "            <tr>\n",
       "                        <th id=\"T_8d43b588_1f16_11ec_baf4_0c8bfd751f74level0_row1\" class=\"row_heading level0 row1\" >1</th>\n",
       "                        <td id=\"T_8d43b588_1f16_11ec_baf4_0c8bfd751f74row1_col0\" class=\"data row1 col0\" >Model 2</td>\n",
       "                        <td id=\"T_8d43b588_1f16_11ec_baf4_0c8bfd751f74row1_col1\" class=\"data row1 col1\" >No room_type</td>\n",
       "                        <td id=\"T_8d43b588_1f16_11ec_baf4_0c8bfd751f74row1_col2\" class=\"data row1 col2\" >0.730000</td>\n",
       "                        <td id=\"T_8d43b588_1f16_11ec_baf4_0c8bfd751f74row1_col3\" class=\"data row1 col3\" >-0.060000</td>\n",
       "            </tr>\n",
       "            <tr>\n",
       "                        <th id=\"T_8d43b588_1f16_11ec_baf4_0c8bfd751f74level0_row2\" class=\"row_heading level0 row2\" >2</th>\n",
       "                        <td id=\"T_8d43b588_1f16_11ec_baf4_0c8bfd751f74row2_col0\" class=\"data row2 col0\" >Model 3</td>\n",
       "                        <td id=\"T_8d43b588_1f16_11ec_baf4_0c8bfd751f74row2_col1\" class=\"data row2 col1\" >No reviews_per_month</td>\n",
       "                        <td id=\"T_8d43b588_1f16_11ec_baf4_0c8bfd751f74row2_col2\" class=\"data row2 col2\" >0.790000</td>\n",
       "                        <td id=\"T_8d43b588_1f16_11ec_baf4_0c8bfd751f74row2_col3\" class=\"data row2 col3\" >0.000000</td>\n",
       "            </tr>\n",
       "            <tr>\n",
       "                        <th id=\"T_8d43b588_1f16_11ec_baf4_0c8bfd751f74level0_row3\" class=\"row_heading level0 row3\" >3</th>\n",
       "                        <td id=\"T_8d43b588_1f16_11ec_baf4_0c8bfd751f74row3_col0\" class=\"data row3 col0\" >Model 4</td>\n",
       "                        <td id=\"T_8d43b588_1f16_11ec_baf4_0c8bfd751f74row3_col1\" class=\"data row3 col1\" >No number_of_reviews</td>\n",
       "                        <td id=\"T_8d43b588_1f16_11ec_baf4_0c8bfd751f74row3_col2\" class=\"data row3 col2\" >0.790000</td>\n",
       "                        <td id=\"T_8d43b588_1f16_11ec_baf4_0c8bfd751f74row3_col3\" class=\"data row3 col3\" >0.000000</td>\n",
       "            </tr>\n",
       "            <tr>\n",
       "                        <th id=\"T_8d43b588_1f16_11ec_baf4_0c8bfd751f74level0_row4\" class=\"row_heading level0 row4\" >4</th>\n",
       "                        <td id=\"T_8d43b588_1f16_11ec_baf4_0c8bfd751f74row4_col0\" class=\"data row4 col0\" >Model 5</td>\n",
       "                        <td id=\"T_8d43b588_1f16_11ec_baf4_0c8bfd751f74row4_col1\" class=\"data row4 col1\" >No neighbourhood_group</td>\n",
       "                        <td id=\"T_8d43b588_1f16_11ec_baf4_0c8bfd751f74row4_col2\" class=\"data row4 col2\" >0.750000</td>\n",
       "                        <td id=\"T_8d43b588_1f16_11ec_baf4_0c8bfd751f74row4_col3\" class=\"data row4 col3\" >-0.040000</td>\n",
       "            </tr>\n",
       "            <tr>\n",
       "                        <th id=\"T_8d43b588_1f16_11ec_baf4_0c8bfd751f74level0_row5\" class=\"row_heading level0 row5\" >5</th>\n",
       "                        <td id=\"T_8d43b588_1f16_11ec_baf4_0c8bfd751f74row5_col0\" class=\"data row5 col0\" >Model 6</td>\n",
       "                        <td id=\"T_8d43b588_1f16_11ec_baf4_0c8bfd751f74row5_col1\" class=\"data row5 col1\" >No minimum_nights</td>\n",
       "                        <td id=\"T_8d43b588_1f16_11ec_baf4_0c8bfd751f74row5_col2\" class=\"data row5 col2\" >0.790000</td>\n",
       "                        <td id=\"T_8d43b588_1f16_11ec_baf4_0c8bfd751f74row5_col3\" class=\"data row5 col3\" >0.000000</td>\n",
       "            </tr>\n",
       "            <tr>\n",
       "                        <th id=\"T_8d43b588_1f16_11ec_baf4_0c8bfd751f74level0_row6\" class=\"row_heading level0 row6\" >6</th>\n",
       "                        <td id=\"T_8d43b588_1f16_11ec_baf4_0c8bfd751f74row6_col0\" class=\"data row6 col0\" >Model 7</td>\n",
       "                        <td id=\"T_8d43b588_1f16_11ec_baf4_0c8bfd751f74row6_col1\" class=\"data row6 col1\" >No longitude</td>\n",
       "                        <td id=\"T_8d43b588_1f16_11ec_baf4_0c8bfd751f74row6_col2\" class=\"data row6 col2\" >0.790000</td>\n",
       "                        <td id=\"T_8d43b588_1f16_11ec_baf4_0c8bfd751f74row6_col3\" class=\"data row6 col3\" >0.000000</td>\n",
       "            </tr>\n",
       "            <tr>\n",
       "                        <th id=\"T_8d43b588_1f16_11ec_baf4_0c8bfd751f74level0_row7\" class=\"row_heading level0 row7\" >7</th>\n",
       "                        <td id=\"T_8d43b588_1f16_11ec_baf4_0c8bfd751f74row7_col0\" class=\"data row7 col0\" >Model 8</td>\n",
       "                        <td id=\"T_8d43b588_1f16_11ec_baf4_0c8bfd751f74row7_col1\" class=\"data row7 col1\" >No latitude</td>\n",
       "                        <td id=\"T_8d43b588_1f16_11ec_baf4_0c8bfd751f74row7_col2\" class=\"data row7 col2\" >0.790000</td>\n",
       "                        <td id=\"T_8d43b588_1f16_11ec_baf4_0c8bfd751f74row7_col3\" class=\"data row7 col3\" >0.000000</td>\n",
       "            </tr>\n",
       "            <tr>\n",
       "                        <th id=\"T_8d43b588_1f16_11ec_baf4_0c8bfd751f74level0_row8\" class=\"row_heading level0 row8\" >8</th>\n",
       "                        <td id=\"T_8d43b588_1f16_11ec_baf4_0c8bfd751f74row8_col0\" class=\"data row8 col0\" >Model 9</td>\n",
       "                        <td id=\"T_8d43b588_1f16_11ec_baf4_0c8bfd751f74row8_col1\" class=\"data row8 col1\" >No calculated_host_listings_count</td>\n",
       "                        <td id=\"T_8d43b588_1f16_11ec_baf4_0c8bfd751f74row8_col2\" class=\"data row8 col2\" >0.790000</td>\n",
       "                        <td id=\"T_8d43b588_1f16_11ec_baf4_0c8bfd751f74row8_col3\" class=\"data row8 col3\" >0.000000</td>\n",
       "            </tr>\n",
       "            <tr>\n",
       "                        <th id=\"T_8d43b588_1f16_11ec_baf4_0c8bfd751f74level0_row9\" class=\"row_heading level0 row9\" >9</th>\n",
       "                        <td id=\"T_8d43b588_1f16_11ec_baf4_0c8bfd751f74row9_col0\" class=\"data row9 col0\" >Model 10</td>\n",
       "                        <td id=\"T_8d43b588_1f16_11ec_baf4_0c8bfd751f74row9_col1\" class=\"data row9 col1\" >No availability_365</td>\n",
       "                        <td id=\"T_8d43b588_1f16_11ec_baf4_0c8bfd751f74row9_col2\" class=\"data row9 col2\" >0.780000</td>\n",
       "                        <td id=\"T_8d43b588_1f16_11ec_baf4_0c8bfd751f74row9_col3\" class=\"data row9 col3\" >-0.010000</td>\n",
       "            </tr>\n",
       "    </tbody></table>"
      ],
      "text/plain": [
       "<pandas.io.formats.style.Styler at 0x1956b3cb208>"
      ]
     },
     "execution_count": 69,
     "metadata": {},
     "output_type": "execute_result"
    }
   ],
   "source": [
    "data = {'model': ['Model 1','Model 2','Model 3','Model 4','Model 5','Model 6','Model 7','Model 8','Model 9','Model 10'],\n",
    "        'desc': ['All','No room_type','No reviews_per_month','No number_of_reviews','No neighbourhood_group','No minimum_nights','No longitude','No latitude','No calculated_host_listings_count','No availability_365'],\n",
    "        'accuracy': [model_1_acc, model_2_acc, model_3_acc, model_4_acc, model_5_acc, model_6_acc, model_7_acc, model_8_acc, model_9_acc, model_10_acc],\n",
    "        'diff_model_1_acc': [model_1_acc - model_1_acc, model_2_acc - model_1_acc, model_3_acc - model_1_acc, model_4_acc - model_1_acc, model_5_acc - model_1_acc,\n",
    "                             model_6_acc - model_1_acc, model_7_acc - model_1_acc, model_8_acc - model_1_acc, model_9_acc - model_1_acc, model_10_acc - model_1_acc]\n",
    "       }\n",
    "summary = pd.DataFrame(data)\n",
    "summary.style.highlight_min(axis=0,color=\"yellow\")\\\n",
    "        .highlight_max(axis=0, color=\"red\")"
   ]
  },
  {
   "cell_type": "markdown",
   "metadata": {},
   "source": [
    "* Both `number_of_reviews` and `reviews_per_month` have the same accuracy as the model with all features."
   ]
  },
  {
   "cell_type": "markdown",
   "metadata": {},
   "source": [
    "## Question 6\n",
    "\n",
    "* For this question, we'll see how to use a linear regression model from Scikit-Learn\n",
    "* We'll need to use the original column 'price'. Apply the logarithmic transformation to this column.\n",
    "* Fit the Ridge regression model on the training data.\n",
    "* This model has a parameter alpha. Let's try the following values: `[0, 0.01, 0.1, 1, 10]`\n",
    "* Which of these alphas leads to the best RMSE on the validation set? Round your RMSE scores to 3 decimal digits.\n",
    "\n",
    "If there are multiple options, select the smallest `alpha`."
   ]
  },
  {
   "cell_type": "code",
   "execution_count": 62,
   "metadata": {},
   "outputs": [
    {
     "data": {
      "image/png": "[encoded data removed]",
      "text/plain": [
       "<Figure size 432x288 with 1 Axes>"
      ]
     },
     "metadata": {
      "needs_background": "light"
     },
     "output_type": "display_data"
    }
   ],
   "source": [
    "sns.histplot(df.price, bins=50)\n",
    "plt.show()"
   ]
  },
  {
   "cell_type": "code",
   "execution_count": 72,
   "metadata": {},
   "outputs": [
    {
     "data": {
      "image/png": "[encoded data removed]",
      "text/plain": [
       "<Figure size 432x288 with 1 Axes>"
      ]
     },
     "metadata": {
      "needs_background": "light"
     },
     "output_type": "display_data"
    }
   ],
   "source": [
    "sns.histplot(df.price[df.price <= 152],bins=50)\n",
    "plt.show()"
   ]
  },
  {
   "cell_type": "code",
   "execution_count": 73,
   "metadata": {},
   "outputs": [
    {
     "data": {
      "text/plain": [
       "neighbourhood_group                   0\n",
       "latitude                              0\n",
       "longitude                             0\n",
       "room_type                             0\n",
       "minimum_nights                        0\n",
       "number_of_reviews                 10052\n",
       "reviews_per_month                 10052\n",
       "calculated_host_listings_count        0\n",
       "availability_365                  17533\n",
       "price                                11\n",
       "dtype: int64"
      ]
     },
     "execution_count": 73,
     "metadata": {},
     "output_type": "execute_result"
    }
   ],
   "source": [
    "df.isin([0]).sum()"
   ]
  },
  {
   "cell_type": "code",
   "execution_count": 74,
   "metadata": {},
   "outputs": [
    {
     "name": "stdout",
     "output_type": "stream",
     "text": [
      "y_train has 9 zeros.\n",
      "y_val has 0 zero.\n",
      "y_test has 2 zeros.\n"
     ]
    }
   ],
   "source": [
    "print('y_train has {0} zeros.'.format(len(y_train) - np.count_nonzero(y_train)))\n",
    "\n",
    "print('y_val has {0} zero.'.format(len(y_val) - np.count_nonzero(y_val)))\n",
    "\n",
    "print('y_test has {0} zeros.'.format(len(y_test) - np.count_nonzero(y_test)))"
   ]
  },
  {
   "cell_type": "code",
   "execution_count": 78,
   "metadata": {},
   "outputs": [
    {
     "data": {
      "text/plain": [
       "152.72"
      ]
     },
     "execution_count": 78,
     "metadata": {},
     "output_type": "execute_result"
    }
   ],
   "source": [
    "# let's fill the 0's with the mean of price \n",
    "\n",
    "mean_price = round(df.price.mean(),2)\n",
    "mean_price"
   ]
  },
  {
   "cell_type": "code",
   "execution_count": 79,
   "metadata": {},
   "outputs": [],
   "source": [
    "# fill in zeros\n",
    "y_train[y_train == 0] = mean_price\n",
    "y_val[y_val == 0] = mean_price\n",
    "y_test[y_test == 0] = mean_price"
   ]
  },
  {
   "cell_type": "code",
   "execution_count": 80,
   "metadata": {},
   "outputs": [],
   "source": [
    "# take the log\n",
    "y_train_log = np.log(y_train)\n",
    "y_val_log = np.log(y_val)\n",
    "y_test_log = np.log(y_test)"
   ]
  },
  {
   "cell_type": "code",
   "execution_count": 84,
   "metadata": {},
   "outputs": [
    {
     "name": "stdout",
     "output_type": "stream",
     "text": [
      "Ridge Regression with alpha = 0    ,RMSE on validation set is 0.50155\n",
      "Ridge Regression with alpha = 0.01    ,RMSE on validation set is 0.5016\n",
      "Ridge Regression with alpha = 0.1    ,RMSE on validation set is 0.5016\n",
      "Ridge Regression with alpha = 1    ,RMSE on validation set is 0.50163\n",
      "Ridge Regression with alpha = 10    ,RMSE on validation set is 0.50234\n"
     ]
    }
   ],
   "source": [
    "from sklearn.linear_model import Ridge\n",
    "alpha_values = [0, 0.01, 0.1, 1, 10]\n",
    "rmses = []\n",
    "\n",
    "for alpha in alpha_values:\n",
    "    model = Ridge(alpha)\n",
    "    model.fit(X_train, y_train_log)\n",
    "    pred = model.predict(X_val)\n",
    "    rmse = np.sqrt(mean_squared_error(y_val_log, pred))\n",
    "    rmses.append(rmse)\n",
    "    print('Ridge Regression with alpha = {0}    ,RMSE on validation set is {1}'.format(alpha, round(rmse,5)))"
   ]
  },
  {
   "cell_type": "code",
   "execution_count": 85,
   "metadata": {},
   "outputs": [
    {
     "name": "stdout",
     "output_type": "stream",
     "text": [
      "Ridge Regression with alpha = 0    ,RMSE on validation set is 0.502\n",
      "Ridge Regression with alpha = 0.01    ,RMSE on validation set is 0.502\n",
      "Ridge Regression with alpha = 0.1    ,RMSE on validation set is 0.502\n",
      "Ridge Regression with alpha = 1    ,RMSE on validation set is 0.502\n",
      "Ridge Regression with alpha = 10    ,RMSE on validation set is 0.502\n"
     ]
    }
   ],
   "source": [
    "from sklearn.linear_model import Ridge\n",
    "alpha_values = [0, 0.01, 0.1, 1, 10]\n",
    "rmses = []\n",
    "\n",
    "for alpha in alpha_values:\n",
    "    model = Ridge(alpha)\n",
    "    model.fit(X_train, y_train_log)\n",
    "    pred = model.predict(X_val)\n",
    "    rmse = np.sqrt(mean_squared_error(y_val_log, pred))\n",
    "    rmses.append(rmse)\n",
    "    print('Ridge Regression with alpha = {0}    ,RMSE on validation set is {1}'.format(alpha, round(rmse,3)))"
   ]
  },
  {
   "cell_type": "markdown",
   "metadata": {},
   "source": [
    "* There are multiple options, so the smallest `alpha = 0 `."
   ]
  },
  {
   "cell_type": "code",
   "execution_count": null,
   "metadata": {},
   "outputs": [],
   "source": []
  }
 ],
 "metadata": {
  "kernelspec": {
   "display_name": "Python 3",
   "language": "python",
   "name": "python3"
  },
  "language_info": {
   "codemirror_mode": {
    "name": "ipython",
    "version": 3
   },
   "file_extension": ".py",
   "mimetype": "text/x-python",
   "name": "python",
   "nbconvert_exporter": "python",
   "pygments_lexer": "ipython3",
   "version": "3.7.6"
  }
 },
 "nbformat": 4,
 "nbformat_minor": 4
}
