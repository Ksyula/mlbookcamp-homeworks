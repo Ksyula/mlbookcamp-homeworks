{
 "cells": [
  {
   "cell_type": "markdown",
   "metadata": {},
   "source": [
    "### Dataset\n",
    "In this homework, we will use the New York City Airbnb Open Data. You can take it from Kaggle or download from here if you don't want to sign up to Kaggle.\n",
    "\n",
    "The goal of this homework is to create a regression model for prediction apartment prices (column 'price').\n",
    "\n",
    "### EDA\n",
    "Load the data.\n",
    "Look at the price variable. Does it have a long tail?\n",
    "\n",
    "### Features\n",
    "For the rest of the homework, you'll need to use only these columns:\n",
    "\n",
    "* 'latitude',\n",
    "* 'longitude',\n",
    "* 'price',\n",
    "* 'minimum_nights',\n",
    "* 'number_of_reviews',\n",
    "* 'reviews_per_month',\n",
    "* 'calculated_host_listings_count',\n",
    "* 'availability_365'\n",
    "\n",
    "Select only them."
   ]
  },
  {
   "cell_type": "code",
   "execution_count": 1,
   "metadata": {},
   "outputs": [],
   "source": [
    "import numpy as np\n",
    "import pandas as pd\n",
    "import matplotlib.pyplot as plt\n",
    "import seaborn as sns\n",
    "%matplotlib inline\n",
    "\n",
    "from sklearn.feature_selection import SelectKBest, chi2\n",
    "from sklearn.ensemble import ExtraTreesClassifier, RandomForestClassifier\n",
    "from sklearn.neighbors import KNeighborsClassifier\n",
    "\n",
    "from sklearn.model_selection import train_test_split\n",
    "from sklearn.metrics import accuracy_score\n",
    "from sklearn.metrics import mean_squared_error"
   ]
  },
  {
   "cell_type": "code",
   "execution_count": 2,
   "metadata": {},
   "outputs": [
    {
     "data": {
      "text/html": [
       "<div>\n",
       "<style scoped>\n",
       "    .dataframe tbody tr th:only-of-type {\n",
       "        vertical-align: middle;\n",
       "    }\n",
       "\n",
       "    .dataframe tbody tr th {\n",
       "        vertical-align: top;\n",
       "    }\n",
       "\n",
       "    .dataframe thead th {\n",
       "        text-align: right;\n",
       "    }\n",
       "</style>\n",
       "<table border=\"1\" class=\"dataframe\">\n",
       "  <thead>\n",
       "    <tr style=\"text-align: right;\">\n",
       "      <th></th>\n",
       "      <th>id</th>\n",
       "      <th>name</th>\n",
       "      <th>host_id</th>\n",
       "      <th>host_name</th>\n",
       "      <th>neighbourhood_group</th>\n",
       "      <th>neighbourhood</th>\n",
       "      <th>latitude</th>\n",
       "      <th>longitude</th>\n",
       "      <th>room_type</th>\n",
       "      <th>price</th>\n",
       "      <th>minimum_nights</th>\n",
       "      <th>number_of_reviews</th>\n",
       "      <th>last_review</th>\n",
       "      <th>reviews_per_month</th>\n",
       "      <th>calculated_host_listings_count</th>\n",
       "      <th>availability_365</th>\n",
       "    </tr>\n",
       "  </thead>\n",
       "  <tbody>\n",
       "    <tr>\n",
       "      <th>0</th>\n",
       "      <td>2539</td>\n",
       "      <td>Clean &amp; quiet apt home by the park</td>\n",
       "      <td>2787</td>\n",
       "      <td>John</td>\n",
       "      <td>Brooklyn</td>\n",
       "      <td>Kensington</td>\n",
       "      <td>40.64749</td>\n",
       "      <td>-73.97237</td>\n",
       "      <td>Private room</td>\n",
       "      <td>149</td>\n",
       "      <td>1</td>\n",
       "      <td>9</td>\n",
       "      <td>2018-10-19</td>\n",
       "      <td>0.21</td>\n",
       "      <td>6</td>\n",
       "      <td>365</td>\n",
       "    </tr>\n",
       "    <tr>\n",
       "      <th>1</th>\n",
       "      <td>2595</td>\n",
       "      <td>Skylit Midtown Castle</td>\n",
       "      <td>2845</td>\n",
       "      <td>Jennifer</td>\n",
       "      <td>Manhattan</td>\n",
       "      <td>Midtown</td>\n",
       "      <td>40.75362</td>\n",
       "      <td>-73.98377</td>\n",
       "      <td>Entire home/apt</td>\n",
       "      <td>225</td>\n",
       "      <td>1</td>\n",
       "      <td>45</td>\n",
       "      <td>2019-05-21</td>\n",
       "      <td>0.38</td>\n",
       "      <td>2</td>\n",
       "      <td>355</td>\n",
       "    </tr>\n",
       "    <tr>\n",
       "      <th>2</th>\n",
       "      <td>3647</td>\n",
       "      <td>THE VILLAGE OF HARLEM....NEW YORK !</td>\n",
       "      <td>4632</td>\n",
       "      <td>Elisabeth</td>\n",
       "      <td>Manhattan</td>\n",
       "      <td>Harlem</td>\n",
       "      <td>40.80902</td>\n",
       "      <td>-73.94190</td>\n",
       "      <td>Private room</td>\n",
       "      <td>150</td>\n",
       "      <td>3</td>\n",
       "      <td>0</td>\n",
       "      <td>NaN</td>\n",
       "      <td>NaN</td>\n",
       "      <td>1</td>\n",
       "      <td>365</td>\n",
       "    </tr>\n",
       "    <tr>\n",
       "      <th>3</th>\n",
       "      <td>3831</td>\n",
       "      <td>Cozy Entire Floor of Brownstone</td>\n",
       "      <td>4869</td>\n",
       "      <td>LisaRoxanne</td>\n",
       "      <td>Brooklyn</td>\n",
       "      <td>Clinton Hill</td>\n",
       "      <td>40.68514</td>\n",
       "      <td>-73.95976</td>\n",
       "      <td>Entire home/apt</td>\n",
       "      <td>89</td>\n",
       "      <td>1</td>\n",
       "      <td>270</td>\n",
       "      <td>2019-07-05</td>\n",
       "      <td>4.64</td>\n",
       "      <td>1</td>\n",
       "      <td>194</td>\n",
       "    </tr>\n",
       "    <tr>\n",
       "      <th>4</th>\n",
       "      <td>5022</td>\n",
       "      <td>Entire Apt: Spacious Studio/Loft by central park</td>\n",
       "      <td>7192</td>\n",
       "      <td>Laura</td>\n",
       "      <td>Manhattan</td>\n",
       "      <td>East Harlem</td>\n",
       "      <td>40.79851</td>\n",
       "      <td>-73.94399</td>\n",
       "      <td>Entire home/apt</td>\n",
       "      <td>80</td>\n",
       "      <td>10</td>\n",
       "      <td>9</td>\n",
       "      <td>2018-11-19</td>\n",
       "      <td>0.10</td>\n",
       "      <td>1</td>\n",
       "      <td>0</td>\n",
       "    </tr>\n",
       "  </tbody>\n",
       "</table>\n",
       "</div>"
      ],
      "text/plain": [
       "     id                                              name  host_id  \\\n",
       "0  2539                Clean & quiet apt home by the park     2787   \n",
       "1  2595                             Skylit Midtown Castle     2845   \n",
       "2  3647               THE VILLAGE OF HARLEM....NEW YORK !     4632   \n",
       "3  3831                   Cozy Entire Floor of Brownstone     4869   \n",
       "4  5022  Entire Apt: Spacious Studio/Loft by central park     7192   \n",
       "\n",
       "     host_name neighbourhood_group neighbourhood  latitude  longitude  \\\n",
       "0         John            Brooklyn    Kensington  40.64749  -73.97237   \n",
       "1     Jennifer           Manhattan       Midtown  40.75362  -73.98377   \n",
       "2    Elisabeth           Manhattan        Harlem  40.80902  -73.94190   \n",
       "3  LisaRoxanne            Brooklyn  Clinton Hill  40.68514  -73.95976   \n",
       "4        Laura           Manhattan   East Harlem  40.79851  -73.94399   \n",
       "\n",
       "         room_type  price  minimum_nights  number_of_reviews last_review  \\\n",
       "0     Private room    149               1                  9  2018-10-19   \n",
       "1  Entire home/apt    225               1                 45  2019-05-21   \n",
       "2     Private room    150               3                  0         NaN   \n",
       "3  Entire home/apt     89               1                270  2019-07-05   \n",
       "4  Entire home/apt     80              10                  9  2018-11-19   \n",
       "\n",
       "   reviews_per_month  calculated_host_listings_count  availability_365  \n",
       "0               0.21                               6               365  \n",
       "1               0.38                               2               355  \n",
       "2                NaN                               1               365  \n",
       "3               4.64                               1               194  \n",
       "4               0.10                               1                 0  "
      ]
     },
     "execution_count": 2,
     "metadata": {},
     "output_type": "execute_result"
    }
   ],
   "source": [
    "airbnb = pd.read_csv(\"AB_NYC_2019.csv\") \n",
    "airbnb.head()"
   ]
  },
  {
   "cell_type": "code",
   "execution_count": 3,
   "metadata": {},
   "outputs": [
    {
     "data": {
      "text/html": [
       "<div>\n",
       "<style scoped>\n",
       "    .dataframe tbody tr th:only-of-type {\n",
       "        vertical-align: middle;\n",
       "    }\n",
       "\n",
       "    .dataframe tbody tr th {\n",
       "        vertical-align: top;\n",
       "    }\n",
       "\n",
       "    .dataframe thead th {\n",
       "        text-align: right;\n",
       "    }\n",
       "</style>\n",
       "<table border=\"1\" class=\"dataframe\">\n",
       "  <thead>\n",
       "    <tr style=\"text-align: right;\">\n",
       "      <th></th>\n",
       "      <th>latitude</th>\n",
       "      <th>longitude</th>\n",
       "      <th>minimum_nights</th>\n",
       "      <th>number_of_reviews</th>\n",
       "      <th>reviews_per_month</th>\n",
       "      <th>calculated_host_listings_count</th>\n",
       "      <th>availability_365</th>\n",
       "      <th>price</th>\n",
       "    </tr>\n",
       "  </thead>\n",
       "  <tbody>\n",
       "    <tr>\n",
       "      <th>0</th>\n",
       "      <td>40.64749</td>\n",
       "      <td>-73.97237</td>\n",
       "      <td>1</td>\n",
       "      <td>9</td>\n",
       "      <td>0.21</td>\n",
       "      <td>6</td>\n",
       "      <td>365</td>\n",
       "      <td>149</td>\n",
       "    </tr>\n",
       "    <tr>\n",
       "      <th>1</th>\n",
       "      <td>40.75362</td>\n",
       "      <td>-73.98377</td>\n",
       "      <td>1</td>\n",
       "      <td>45</td>\n",
       "      <td>0.38</td>\n",
       "      <td>2</td>\n",
       "      <td>355</td>\n",
       "      <td>225</td>\n",
       "    </tr>\n",
       "    <tr>\n",
       "      <th>2</th>\n",
       "      <td>40.80902</td>\n",
       "      <td>-73.94190</td>\n",
       "      <td>3</td>\n",
       "      <td>0</td>\n",
       "      <td>NaN</td>\n",
       "      <td>1</td>\n",
       "      <td>365</td>\n",
       "      <td>150</td>\n",
       "    </tr>\n",
       "    <tr>\n",
       "      <th>3</th>\n",
       "      <td>40.68514</td>\n",
       "      <td>-73.95976</td>\n",
       "      <td>1</td>\n",
       "      <td>270</td>\n",
       "      <td>4.64</td>\n",
       "      <td>1</td>\n",
       "      <td>194</td>\n",
       "      <td>89</td>\n",
       "    </tr>\n",
       "    <tr>\n",
       "      <th>4</th>\n",
       "      <td>40.79851</td>\n",
       "      <td>-73.94399</td>\n",
       "      <td>10</td>\n",
       "      <td>9</td>\n",
       "      <td>0.10</td>\n",
       "      <td>1</td>\n",
       "      <td>0</td>\n",
       "      <td>80</td>\n",
       "    </tr>\n",
       "  </tbody>\n",
       "</table>\n",
       "</div>"
      ],
      "text/plain": [
       "   latitude  longitude  minimum_nights  number_of_reviews  reviews_per_month  \\\n",
       "0  40.64749  -73.97237               1                  9               0.21   \n",
       "1  40.75362  -73.98377               1                 45               0.38   \n",
       "2  40.80902  -73.94190               3                  0                NaN   \n",
       "3  40.68514  -73.95976               1                270               4.64   \n",
       "4  40.79851  -73.94399              10                  9               0.10   \n",
       "\n",
       "   calculated_host_listings_count  availability_365  price  \n",
       "0                               6               365    149  \n",
       "1                               2               355    225  \n",
       "2                               1               365    150  \n",
       "3                               1               194     89  \n",
       "4                               1                 0     80  "
      ]
     },
     "execution_count": 3,
     "metadata": {},
     "output_type": "execute_result"
    }
   ],
   "source": [
    "df = airbnb[[\n",
    "            'latitude',\n",
    "            'longitude',\n",
    "            'minimum_nights',\n",
    "            'number_of_reviews',\n",
    "            'reviews_per_month',\n",
    "            'calculated_host_listings_count',\n",
    "            'availability_365',\n",
    "            'price']]\n",
    "\n",
    "df.head()"
   ]
  },
  {
   "cell_type": "code",
   "execution_count": 4,
   "metadata": {},
   "outputs": [
    {
     "name": "stdout",
     "output_type": "stream",
     "text": [
      "<class 'pandas.core.frame.DataFrame'>\n",
      "RangeIndex: 48895 entries, 0 to 48894\n",
      "Data columns (total 8 columns):\n",
      " #   Column                          Non-Null Count  Dtype  \n",
      "---  ------                          --------------  -----  \n",
      " 0   latitude                        48895 non-null  float64\n",
      " 1   longitude                       48895 non-null  float64\n",
      " 2   minimum_nights                  48895 non-null  int64  \n",
      " 3   number_of_reviews               48895 non-null  int64  \n",
      " 4   reviews_per_month               38843 non-null  float64\n",
      " 5   calculated_host_listings_count  48895 non-null  int64  \n",
      " 6   availability_365                48895 non-null  int64  \n",
      " 7   price                           48895 non-null  int64  \n",
      "dtypes: float64(3), int64(5)\n",
      "memory usage: 3.0 MB\n"
     ]
    }
   ],
   "source": [
    "df.info()"
   ]
  },
  {
   "cell_type": "code",
   "execution_count": 5,
   "metadata": {},
   "outputs": [
    {
     "data": {
      "text/plain": [
       "48890     70\n",
       "48891     40\n",
       "48892    115\n",
       "48893     55\n",
       "48894     90\n",
       "Name: price, dtype: int64"
      ]
     },
     "execution_count": 5,
     "metadata": {},
     "output_type": "execute_result"
    }
   ],
   "source": [
    "df.price.tail()"
   ]
  },
  {
   "cell_type": "code",
   "execution_count": 6,
   "metadata": {},
   "outputs": [
    {
     "data": {
      "text/plain": [
       "<matplotlib.axes._subplots.AxesSubplot at 0x2d23fa65a88>"
      ]
     },
     "execution_count": 6,
     "metadata": {},
     "output_type": "execute_result"
    },
    {
     "data": {
      "image/png": "[encoded data removed]",
      "text/plain": [
       "<Figure size 432x288 with 1 Axes>"
      ]
     },
     "metadata": {
      "needs_background": "light"
     },
     "output_type": "display_data"
    }
   ],
   "source": [
    "sns.histplot(df.price, bins=50)"
   ]
  },
  {
   "cell_type": "code",
   "execution_count": 7,
   "metadata": {},
   "outputs": [
    {
     "data": {
      "text/plain": [
       "<matplotlib.axes._subplots.AxesSubplot at 0x2d2405eecc8>"
      ]
     },
     "execution_count": 7,
     "metadata": {},
     "output_type": "execute_result"
    },
    {
     "data": {
      "image/png": "[encoded data removed]",
      "text/plain": [
       "<Figure size 432x288 with 1 Axes>"
      ]
     },
     "metadata": {
      "needs_background": "light"
     },
     "output_type": "display_data"
    }
   ],
   "source": [
    "sns.histplot(df.price[df.price <1000],bins=50)"
   ]
  },
  {
   "cell_type": "code",
   "execution_count": 8,
   "metadata": {},
   "outputs": [
    {
     "data": {
      "text/plain": [
       "<matplotlib.axes._subplots.AxesSubplot at 0x2d2407069c8>"
      ]
     },
     "execution_count": 8,
     "metadata": {},
     "output_type": "execute_result"
    },
    {
     "data": {
      "image/png": "[encoded data removed]",
      "text/plain": [
       "<Figure size 432x288 with 1 Axes>"
      ]
     },
     "metadata": {
      "needs_background": "light"
     },
     "output_type": "display_data"
    }
   ],
   "source": [
    "logpirce= np.log1p(df.price)\n",
    "\n",
    "sns.histplot(logpirce,bins=50)\n"
   ]
  },
  {
   "cell_type": "markdown",
   "metadata": {},
   "source": [
    " # Q1 \n",
    " * reviews_per_month is the feature with 10_052 missing rows."
   ]
  },
  {
   "cell_type": "code",
   "execution_count": 9,
   "metadata": {},
   "outputs": [
    {
     "data": {
      "text/plain": [
       "latitude                              0\n",
       "longitude                             0\n",
       "minimum_nights                        0\n",
       "number_of_reviews                     0\n",
       "reviews_per_month                 10052\n",
       "calculated_host_listings_count        0\n",
       "availability_365                      0\n",
       "price                                 0\n",
       "dtype: int64"
      ]
     },
     "execution_count": 9,
     "metadata": {},
     "output_type": "execute_result"
    }
   ],
   "source": [
    "df.isna().sum()"
   ]
  },
  {
   "cell_type": "markdown",
   "metadata": {},
   "source": [
    "# **Q2**:\n",
    "* the median( 50%) of minimum_nights is 3.0"
   ]
  },
  {
   "cell_type": "code",
   "execution_count": 10,
   "metadata": {},
   "outputs": [
    {
     "data": {
      "text/plain": [
       "3.0"
      ]
     },
     "execution_count": 10,
     "metadata": {},
     "output_type": "execute_result"
    }
   ],
   "source": [
    "df.minimum_nights.median()"
   ]
  },
  {
   "cell_type": "code",
   "execution_count": 11,
   "metadata": {},
   "outputs": [
    {
     "data": {
      "text/html": [
       "<div>\n",
       "<style scoped>\n",
       "    .dataframe tbody tr th:only-of-type {\n",
       "        vertical-align: middle;\n",
       "    }\n",
       "\n",
       "    .dataframe tbody tr th {\n",
       "        vertical-align: top;\n",
       "    }\n",
       "\n",
       "    .dataframe thead th {\n",
       "        text-align: right;\n",
       "    }\n",
       "</style>\n",
       "<table border=\"1\" class=\"dataframe\">\n",
       "  <thead>\n",
       "    <tr style=\"text-align: right;\">\n",
       "      <th></th>\n",
       "      <th>latitude</th>\n",
       "      <th>longitude</th>\n",
       "      <th>minimum_nights</th>\n",
       "      <th>number_of_reviews</th>\n",
       "      <th>reviews_per_month</th>\n",
       "      <th>calculated_host_listings_count</th>\n",
       "      <th>availability_365</th>\n",
       "      <th>price</th>\n",
       "    </tr>\n",
       "  </thead>\n",
       "  <tbody>\n",
       "    <tr>\n",
       "      <th>count</th>\n",
       "      <td>48895.000000</td>\n",
       "      <td>48895.000000</td>\n",
       "      <td>48895.000000</td>\n",
       "      <td>48895.000000</td>\n",
       "      <td>38843.000000</td>\n",
       "      <td>48895.000000</td>\n",
       "      <td>48895.000000</td>\n",
       "      <td>48895.000000</td>\n",
       "    </tr>\n",
       "    <tr>\n",
       "      <th>mean</th>\n",
       "      <td>40.728949</td>\n",
       "      <td>-73.952170</td>\n",
       "      <td>7.029962</td>\n",
       "      <td>23.274466</td>\n",
       "      <td>1.373221</td>\n",
       "      <td>7.143982</td>\n",
       "      <td>112.781327</td>\n",
       "      <td>152.720687</td>\n",
       "    </tr>\n",
       "    <tr>\n",
       "      <th>std</th>\n",
       "      <td>0.054530</td>\n",
       "      <td>0.046157</td>\n",
       "      <td>20.510550</td>\n",
       "      <td>44.550582</td>\n",
       "      <td>1.680442</td>\n",
       "      <td>32.952519</td>\n",
       "      <td>131.622289</td>\n",
       "      <td>240.154170</td>\n",
       "    </tr>\n",
       "    <tr>\n",
       "      <th>min</th>\n",
       "      <td>40.499790</td>\n",
       "      <td>-74.244420</td>\n",
       "      <td>1.000000</td>\n",
       "      <td>0.000000</td>\n",
       "      <td>0.010000</td>\n",
       "      <td>1.000000</td>\n",
       "      <td>0.000000</td>\n",
       "      <td>0.000000</td>\n",
       "    </tr>\n",
       "    <tr>\n",
       "      <th>25%</th>\n",
       "      <td>40.690100</td>\n",
       "      <td>-73.983070</td>\n",
       "      <td>1.000000</td>\n",
       "      <td>1.000000</td>\n",
       "      <td>0.190000</td>\n",
       "      <td>1.000000</td>\n",
       "      <td>0.000000</td>\n",
       "      <td>69.000000</td>\n",
       "    </tr>\n",
       "    <tr>\n",
       "      <th>50%</th>\n",
       "      <td>40.723070</td>\n",
       "      <td>-73.955680</td>\n",
       "      <td>3.000000</td>\n",
       "      <td>5.000000</td>\n",
       "      <td>0.720000</td>\n",
       "      <td>1.000000</td>\n",
       "      <td>45.000000</td>\n",
       "      <td>106.000000</td>\n",
       "    </tr>\n",
       "    <tr>\n",
       "      <th>75%</th>\n",
       "      <td>40.763115</td>\n",
       "      <td>-73.936275</td>\n",
       "      <td>5.000000</td>\n",
       "      <td>24.000000</td>\n",
       "      <td>2.020000</td>\n",
       "      <td>2.000000</td>\n",
       "      <td>227.000000</td>\n",
       "      <td>175.000000</td>\n",
       "    </tr>\n",
       "    <tr>\n",
       "      <th>max</th>\n",
       "      <td>40.913060</td>\n",
       "      <td>-73.712990</td>\n",
       "      <td>1250.000000</td>\n",
       "      <td>629.000000</td>\n",
       "      <td>58.500000</td>\n",
       "      <td>327.000000</td>\n",
       "      <td>365.000000</td>\n",
       "      <td>10000.000000</td>\n",
       "    </tr>\n",
       "  </tbody>\n",
       "</table>\n",
       "</div>"
      ],
      "text/plain": [
       "           latitude     longitude  minimum_nights  number_of_reviews  \\\n",
       "count  48895.000000  48895.000000    48895.000000       48895.000000   \n",
       "mean      40.728949    -73.952170        7.029962          23.274466   \n",
       "std        0.054530      0.046157       20.510550          44.550582   \n",
       "min       40.499790    -74.244420        1.000000           0.000000   \n",
       "25%       40.690100    -73.983070        1.000000           1.000000   \n",
       "50%       40.723070    -73.955680        3.000000           5.000000   \n",
       "75%       40.763115    -73.936275        5.000000          24.000000   \n",
       "max       40.913060    -73.712990     1250.000000         629.000000   \n",
       "\n",
       "       reviews_per_month  calculated_host_listings_count  availability_365  \\\n",
       "count       38843.000000                    48895.000000      48895.000000   \n",
       "mean            1.373221                        7.143982        112.781327   \n",
       "std             1.680442                       32.952519        131.622289   \n",
       "min             0.010000                        1.000000          0.000000   \n",
       "25%             0.190000                        1.000000          0.000000   \n",
       "50%             0.720000                        1.000000         45.000000   \n",
       "75%             2.020000                        2.000000        227.000000   \n",
       "max            58.500000                      327.000000        365.000000   \n",
       "\n",
       "              price  \n",
       "count  48895.000000  \n",
       "mean     152.720687  \n",
       "std      240.154170  \n",
       "min        0.000000  \n",
       "25%       69.000000  \n",
       "50%      106.000000  \n",
       "75%      175.000000  \n",
       "max    10000.000000  "
      ]
     },
     "execution_count": 11,
     "metadata": {},
     "output_type": "execute_result"
    }
   ],
   "source": [
    "df.describe()"
   ]
  },
  {
   "cell_type": "code",
   "execution_count": 12,
   "metadata": {},
   "outputs": [
    {
     "data": {
      "text/html": [
       "<style  type=\"text/css\" >\n",
       "    #T_cc7973cc_1a0e_11ec_9664_0c8bfd751f74row0_col1 {\n",
       "            width:  10em;\n",
       "             height:  80%;\n",
       "            background:  linear-gradient(90deg,#FF595E 50.6%, transparent 50.6%);\n",
       "        }    #T_cc7973cc_1a0e_11ec_9664_0c8bfd751f74row0_col5 {\n",
       "            background-color:  #d4edb3;\n",
       "            color:  #000000;\n",
       "        }    #T_cc7973cc_1a0e_11ec_9664_0c8bfd751f74row1_col1 {\n",
       "            width:  10em;\n",
       "             height:  80%;\n",
       "        }    #T_cc7973cc_1a0e_11ec_9664_0c8bfd751f74row1_col5 {\n",
       "            background-color:  #8e0152;\n",
       "            color:  #f1f1f1;\n",
       "        }    #T_cc7973cc_1a0e_11ec_9664_0c8bfd751f74row2_col1 {\n",
       "            width:  10em;\n",
       "             height:  80%;\n",
       "            background:  linear-gradient(90deg,#FF595E 35.7%, transparent 35.7%);\n",
       "        }    #T_cc7973cc_1a0e_11ec_9664_0c8bfd751f74row2_col5 {\n",
       "            background-color:  #fbe6f1;\n",
       "            color:  #000000;\n",
       "        }    #T_cc7973cc_1a0e_11ec_9664_0c8bfd751f74row3_col1 {\n",
       "            width:  10em;\n",
       "             height:  80%;\n",
       "            background:  linear-gradient(90deg,#FF595E 42.9%, transparent 42.9%);\n",
       "        }    #T_cc7973cc_1a0e_11ec_9664_0c8bfd751f74row3_col5 {\n",
       "            background-color:  #fbe9f2;\n",
       "            color:  #000000;\n",
       "        }    #T_cc7973cc_1a0e_11ec_9664_0c8bfd751f74row4_col1 {\n",
       "            width:  10em;\n",
       "             height:  80%;\n",
       "            background:  linear-gradient(90deg,#FF595E 33.2%, transparent 33.2%);\n",
       "        }    #T_cc7973cc_1a0e_11ec_9664_0c8bfd751f74row4_col5 {\n",
       "            background-color:  #fce4f0;\n",
       "            color:  #000000;\n",
       "        }    #T_cc7973cc_1a0e_11ec_9664_0c8bfd751f74row5_col1 {\n",
       "            width:  10em;\n",
       "             height:  80%;\n",
       "            background:  linear-gradient(90deg,#FF595E 35.8%, transparent 35.8%);\n",
       "        }    #T_cc7973cc_1a0e_11ec_9664_0c8bfd751f74row5_col5 {\n",
       "            background-color:  #fce4f0;\n",
       "            color:  #000000;\n",
       "        }    #T_cc7973cc_1a0e_11ec_9664_0c8bfd751f74row6_col1 {\n",
       "            width:  10em;\n",
       "             height:  80%;\n",
       "            background:  linear-gradient(90deg,#FF595E 82.4%, transparent 82.4%);\n",
       "        }    #T_cc7973cc_1a0e_11ec_9664_0c8bfd751f74row6_col5 {\n",
       "            background-color:  #c9e8a2;\n",
       "            color:  #000000;\n",
       "        }    #T_cc7973cc_1a0e_11ec_9664_0c8bfd751f74row7_col1 {\n",
       "            width:  10em;\n",
       "             height:  80%;\n",
       "            background:  linear-gradient(90deg,#FF595E 100.0%, transparent 100.0%);\n",
       "        }    #T_cc7973cc_1a0e_11ec_9664_0c8bfd751f74row7_col5 {\n",
       "            background-color:  #276419;\n",
       "            color:  #f1f1f1;\n",
       "        }</style><table id=\"T_cc7973cc_1a0e_11ec_9664_0c8bfd751f74\" ><thead>    <tr>        <th class=\"blank level0\" ></th>        <th class=\"col_heading level0 col0\" >count</th>        <th class=\"col_heading level0 col1\" >mean</th>        <th class=\"col_heading level0 col2\" >std</th>        <th class=\"col_heading level0 col3\" >min</th>        <th class=\"col_heading level0 col4\" >25%</th>        <th class=\"col_heading level0 col5\" >50%</th>        <th class=\"col_heading level0 col6\" >75%</th>        <th class=\"col_heading level0 col7\" >max</th>    </tr></thead><tbody>\n",
       "                <tr>\n",
       "                        <th id=\"T_cc7973cc_1a0e_11ec_9664_0c8bfd751f74level0_row0\" class=\"row_heading level0 row0\" >latitude</th>\n",
       "                        <td id=\"T_cc7973cc_1a0e_11ec_9664_0c8bfd751f74row0_col0\" class=\"data row0 col0\" >48895.000000</td>\n",
       "                        <td id=\"T_cc7973cc_1a0e_11ec_9664_0c8bfd751f74row0_col1\" class=\"data row0 col1\" >40.728949</td>\n",
       "                        <td id=\"T_cc7973cc_1a0e_11ec_9664_0c8bfd751f74row0_col2\" class=\"data row0 col2\" >0.054530</td>\n",
       "                        <td id=\"T_cc7973cc_1a0e_11ec_9664_0c8bfd751f74row0_col3\" class=\"data row0 col3\" >40.499790</td>\n",
       "                        <td id=\"T_cc7973cc_1a0e_11ec_9664_0c8bfd751f74row0_col4\" class=\"data row0 col4\" >40.690100</td>\n",
       "                        <td id=\"T_cc7973cc_1a0e_11ec_9664_0c8bfd751f74row0_col5\" class=\"data row0 col5\" >40.723070</td>\n",
       "                        <td id=\"T_cc7973cc_1a0e_11ec_9664_0c8bfd751f74row0_col6\" class=\"data row0 col6\" >40.763115</td>\n",
       "                        <td id=\"T_cc7973cc_1a0e_11ec_9664_0c8bfd751f74row0_col7\" class=\"data row0 col7\" >40.913060</td>\n",
       "            </tr>\n",
       "            <tr>\n",
       "                        <th id=\"T_cc7973cc_1a0e_11ec_9664_0c8bfd751f74level0_row1\" class=\"row_heading level0 row1\" >longitude</th>\n",
       "                        <td id=\"T_cc7973cc_1a0e_11ec_9664_0c8bfd751f74row1_col0\" class=\"data row1 col0\" >48895.000000</td>\n",
       "                        <td id=\"T_cc7973cc_1a0e_11ec_9664_0c8bfd751f74row1_col1\" class=\"data row1 col1\" >-73.952170</td>\n",
       "                        <td id=\"T_cc7973cc_1a0e_11ec_9664_0c8bfd751f74row1_col2\" class=\"data row1 col2\" >0.046157</td>\n",
       "                        <td id=\"T_cc7973cc_1a0e_11ec_9664_0c8bfd751f74row1_col3\" class=\"data row1 col3\" >-74.244420</td>\n",
       "                        <td id=\"T_cc7973cc_1a0e_11ec_9664_0c8bfd751f74row1_col4\" class=\"data row1 col4\" >-73.983070</td>\n",
       "                        <td id=\"T_cc7973cc_1a0e_11ec_9664_0c8bfd751f74row1_col5\" class=\"data row1 col5\" >-73.955680</td>\n",
       "                        <td id=\"T_cc7973cc_1a0e_11ec_9664_0c8bfd751f74row1_col6\" class=\"data row1 col6\" >-73.936275</td>\n",
       "                        <td id=\"T_cc7973cc_1a0e_11ec_9664_0c8bfd751f74row1_col7\" class=\"data row1 col7\" >-73.712990</td>\n",
       "            </tr>\n",
       "            <tr>\n",
       "                        <th id=\"T_cc7973cc_1a0e_11ec_9664_0c8bfd751f74level0_row2\" class=\"row_heading level0 row2\" >minimum_nights</th>\n",
       "                        <td id=\"T_cc7973cc_1a0e_11ec_9664_0c8bfd751f74row2_col0\" class=\"data row2 col0\" >48895.000000</td>\n",
       "                        <td id=\"T_cc7973cc_1a0e_11ec_9664_0c8bfd751f74row2_col1\" class=\"data row2 col1\" >7.029962</td>\n",
       "                        <td id=\"T_cc7973cc_1a0e_11ec_9664_0c8bfd751f74row2_col2\" class=\"data row2 col2\" >20.510550</td>\n",
       "                        <td id=\"T_cc7973cc_1a0e_11ec_9664_0c8bfd751f74row2_col3\" class=\"data row2 col3\" >1.000000</td>\n",
       "                        <td id=\"T_cc7973cc_1a0e_11ec_9664_0c8bfd751f74row2_col4\" class=\"data row2 col4\" >1.000000</td>\n",
       "                        <td id=\"T_cc7973cc_1a0e_11ec_9664_0c8bfd751f74row2_col5\" class=\"data row2 col5\" >3.000000</td>\n",
       "                        <td id=\"T_cc7973cc_1a0e_11ec_9664_0c8bfd751f74row2_col6\" class=\"data row2 col6\" >5.000000</td>\n",
       "                        <td id=\"T_cc7973cc_1a0e_11ec_9664_0c8bfd751f74row2_col7\" class=\"data row2 col7\" >1250.000000</td>\n",
       "            </tr>\n",
       "            <tr>\n",
       "                        <th id=\"T_cc7973cc_1a0e_11ec_9664_0c8bfd751f74level0_row3\" class=\"row_heading level0 row3\" >number_of_reviews</th>\n",
       "                        <td id=\"T_cc7973cc_1a0e_11ec_9664_0c8bfd751f74row3_col0\" class=\"data row3 col0\" >48895.000000</td>\n",
       "                        <td id=\"T_cc7973cc_1a0e_11ec_9664_0c8bfd751f74row3_col1\" class=\"data row3 col1\" >23.274466</td>\n",
       "                        <td id=\"T_cc7973cc_1a0e_11ec_9664_0c8bfd751f74row3_col2\" class=\"data row3 col2\" >44.550582</td>\n",
       "                        <td id=\"T_cc7973cc_1a0e_11ec_9664_0c8bfd751f74row3_col3\" class=\"data row3 col3\" >0.000000</td>\n",
       "                        <td id=\"T_cc7973cc_1a0e_11ec_9664_0c8bfd751f74row3_col4\" class=\"data row3 col4\" >1.000000</td>\n",
       "                        <td id=\"T_cc7973cc_1a0e_11ec_9664_0c8bfd751f74row3_col5\" class=\"data row3 col5\" >5.000000</td>\n",
       "                        <td id=\"T_cc7973cc_1a0e_11ec_9664_0c8bfd751f74row3_col6\" class=\"data row3 col6\" >24.000000</td>\n",
       "                        <td id=\"T_cc7973cc_1a0e_11ec_9664_0c8bfd751f74row3_col7\" class=\"data row3 col7\" >629.000000</td>\n",
       "            </tr>\n",
       "            <tr>\n",
       "                        <th id=\"T_cc7973cc_1a0e_11ec_9664_0c8bfd751f74level0_row4\" class=\"row_heading level0 row4\" >reviews_per_month</th>\n",
       "                        <td id=\"T_cc7973cc_1a0e_11ec_9664_0c8bfd751f74row4_col0\" class=\"data row4 col0\" >38843.000000</td>\n",
       "                        <td id=\"T_cc7973cc_1a0e_11ec_9664_0c8bfd751f74row4_col1\" class=\"data row4 col1\" >1.373221</td>\n",
       "                        <td id=\"T_cc7973cc_1a0e_11ec_9664_0c8bfd751f74row4_col2\" class=\"data row4 col2\" >1.680442</td>\n",
       "                        <td id=\"T_cc7973cc_1a0e_11ec_9664_0c8bfd751f74row4_col3\" class=\"data row4 col3\" >0.010000</td>\n",
       "                        <td id=\"T_cc7973cc_1a0e_11ec_9664_0c8bfd751f74row4_col4\" class=\"data row4 col4\" >0.190000</td>\n",
       "                        <td id=\"T_cc7973cc_1a0e_11ec_9664_0c8bfd751f74row4_col5\" class=\"data row4 col5\" >0.720000</td>\n",
       "                        <td id=\"T_cc7973cc_1a0e_11ec_9664_0c8bfd751f74row4_col6\" class=\"data row4 col6\" >2.020000</td>\n",
       "                        <td id=\"T_cc7973cc_1a0e_11ec_9664_0c8bfd751f74row4_col7\" class=\"data row4 col7\" >58.500000</td>\n",
       "            </tr>\n",
       "            <tr>\n",
       "                        <th id=\"T_cc7973cc_1a0e_11ec_9664_0c8bfd751f74level0_row5\" class=\"row_heading level0 row5\" >calculated_host_listings_count</th>\n",
       "                        <td id=\"T_cc7973cc_1a0e_11ec_9664_0c8bfd751f74row5_col0\" class=\"data row5 col0\" >48895.000000</td>\n",
       "                        <td id=\"T_cc7973cc_1a0e_11ec_9664_0c8bfd751f74row5_col1\" class=\"data row5 col1\" >7.143982</td>\n",
       "                        <td id=\"T_cc7973cc_1a0e_11ec_9664_0c8bfd751f74row5_col2\" class=\"data row5 col2\" >32.952519</td>\n",
       "                        <td id=\"T_cc7973cc_1a0e_11ec_9664_0c8bfd751f74row5_col3\" class=\"data row5 col3\" >1.000000</td>\n",
       "                        <td id=\"T_cc7973cc_1a0e_11ec_9664_0c8bfd751f74row5_col4\" class=\"data row5 col4\" >1.000000</td>\n",
       "                        <td id=\"T_cc7973cc_1a0e_11ec_9664_0c8bfd751f74row5_col5\" class=\"data row5 col5\" >1.000000</td>\n",
       "                        <td id=\"T_cc7973cc_1a0e_11ec_9664_0c8bfd751f74row5_col6\" class=\"data row5 col6\" >2.000000</td>\n",
       "                        <td id=\"T_cc7973cc_1a0e_11ec_9664_0c8bfd751f74row5_col7\" class=\"data row5 col7\" >327.000000</td>\n",
       "            </tr>\n",
       "            <tr>\n",
       "                        <th id=\"T_cc7973cc_1a0e_11ec_9664_0c8bfd751f74level0_row6\" class=\"row_heading level0 row6\" >availability_365</th>\n",
       "                        <td id=\"T_cc7973cc_1a0e_11ec_9664_0c8bfd751f74row6_col0\" class=\"data row6 col0\" >48895.000000</td>\n",
       "                        <td id=\"T_cc7973cc_1a0e_11ec_9664_0c8bfd751f74row6_col1\" class=\"data row6 col1\" >112.781327</td>\n",
       "                        <td id=\"T_cc7973cc_1a0e_11ec_9664_0c8bfd751f74row6_col2\" class=\"data row6 col2\" >131.622289</td>\n",
       "                        <td id=\"T_cc7973cc_1a0e_11ec_9664_0c8bfd751f74row6_col3\" class=\"data row6 col3\" >0.000000</td>\n",
       "                        <td id=\"T_cc7973cc_1a0e_11ec_9664_0c8bfd751f74row6_col4\" class=\"data row6 col4\" >0.000000</td>\n",
       "                        <td id=\"T_cc7973cc_1a0e_11ec_9664_0c8bfd751f74row6_col5\" class=\"data row6 col5\" >45.000000</td>\n",
       "                        <td id=\"T_cc7973cc_1a0e_11ec_9664_0c8bfd751f74row6_col6\" class=\"data row6 col6\" >227.000000</td>\n",
       "                        <td id=\"T_cc7973cc_1a0e_11ec_9664_0c8bfd751f74row6_col7\" class=\"data row6 col7\" >365.000000</td>\n",
       "            </tr>\n",
       "            <tr>\n",
       "                        <th id=\"T_cc7973cc_1a0e_11ec_9664_0c8bfd751f74level0_row7\" class=\"row_heading level0 row7\" >price</th>\n",
       "                        <td id=\"T_cc7973cc_1a0e_11ec_9664_0c8bfd751f74row7_col0\" class=\"data row7 col0\" >48895.000000</td>\n",
       "                        <td id=\"T_cc7973cc_1a0e_11ec_9664_0c8bfd751f74row7_col1\" class=\"data row7 col1\" >152.720687</td>\n",
       "                        <td id=\"T_cc7973cc_1a0e_11ec_9664_0c8bfd751f74row7_col2\" class=\"data row7 col2\" >240.154170</td>\n",
       "                        <td id=\"T_cc7973cc_1a0e_11ec_9664_0c8bfd751f74row7_col3\" class=\"data row7 col3\" >0.000000</td>\n",
       "                        <td id=\"T_cc7973cc_1a0e_11ec_9664_0c8bfd751f74row7_col4\" class=\"data row7 col4\" >69.000000</td>\n",
       "                        <td id=\"T_cc7973cc_1a0e_11ec_9664_0c8bfd751f74row7_col5\" class=\"data row7 col5\" >106.000000</td>\n",
       "                        <td id=\"T_cc7973cc_1a0e_11ec_9664_0c8bfd751f74row7_col6\" class=\"data row7 col6\" >175.000000</td>\n",
       "                        <td id=\"T_cc7973cc_1a0e_11ec_9664_0c8bfd751f74row7_col7\" class=\"data row7 col7\" >10000.000000</td>\n",
       "            </tr>\n",
       "    </tbody></table>"
      ],
      "text/plain": [
       "<pandas.io.formats.style.Styler at 0x2d24077f7c8>"
      ]
     },
     "execution_count": 12,
     "metadata": {},
     "output_type": "execute_result"
    }
   ],
   "source": [
    "df.describe().T.style.bar(subset=['mean'], color='#FF595E')\\\n",
    "                           .background_gradient(subset=['50%'], cmap='PiYG') # highlight median"
   ]
  },
  {
   "cell_type": "markdown",
   "metadata": {},
   "source": [
    "### Split the data"
   ]
  },
  {
   "cell_type": "code",
   "execution_count": 13,
   "metadata": {},
   "outputs": [
    {
     "data": {
      "text/plain": [
       "(48895, 8)"
      ]
     },
     "execution_count": 13,
     "metadata": {},
     "output_type": "execute_result"
    }
   ],
   "source": [
    "df.shape"
   ]
  },
  {
   "cell_type": "code",
   "execution_count": 14,
   "metadata": {},
   "outputs": [],
   "source": [
    "df1 = df.copy() "
   ]
  },
  {
   "cell_type": "code",
   "execution_count": 15,
   "metadata": {},
   "outputs": [
    {
     "data": {
      "text/plain": [
       "48895"
      ]
     },
     "execution_count": 15,
     "metadata": {},
     "output_type": "execute_result"
    }
   ],
   "source": [
    "n = len(df)\n",
    "n"
   ]
  },
  {
   "cell_type": "code",
   "execution_count": 16,
   "metadata": {},
   "outputs": [
    {
     "data": {
      "text/plain": [
       "(48895, 9779, 9779, 29337, 48895)"
      ]
     },
     "execution_count": 16,
     "metadata": {},
     "output_type": "execute_result"
    }
   ],
   "source": [
    "n_val = int(n * 0.2)\n",
    "n_test = int(n * 0.2)\n",
    "n_train = int(n * 0.6)\n",
    "n , n_val, n_test, n_train, (n_val+n_test+n_train)"
   ]
  },
  {
   "cell_type": "code",
   "execution_count": 17,
   "metadata": {},
   "outputs": [],
   "source": [
    "df_val = df.iloc[:n_val]\n",
    "df_test = df.iloc[n_val:n_val+n_test]\n",
    "df_train = df.iloc[n_val+n_test:]"
   ]
  },
  {
   "cell_type": "code",
   "execution_count": 18,
   "metadata": {},
   "outputs": [],
   "source": [
    "idx = np.arange(n)\n"
   ]
  },
  {
   "cell_type": "code",
   "execution_count": 19,
   "metadata": {},
   "outputs": [],
   "source": [
    "np.random.seed(42)\n",
    "np.random.shuffle(idx)\n"
   ]
  },
  {
   "cell_type": "code",
   "execution_count": 20,
   "metadata": {},
   "outputs": [
    {
     "data": {
      "text/html": [
       "<div>\n",
       "<style scoped>\n",
       "    .dataframe tbody tr th:only-of-type {\n",
       "        vertical-align: middle;\n",
       "    }\n",
       "\n",
       "    .dataframe tbody tr th {\n",
       "        vertical-align: top;\n",
       "    }\n",
       "\n",
       "    .dataframe thead th {\n",
       "        text-align: right;\n",
       "    }\n",
       "</style>\n",
       "<table border=\"1\" class=\"dataframe\">\n",
       "  <thead>\n",
       "    <tr style=\"text-align: right;\">\n",
       "      <th></th>\n",
       "      <th>latitude</th>\n",
       "      <th>longitude</th>\n",
       "      <th>minimum_nights</th>\n",
       "      <th>number_of_reviews</th>\n",
       "      <th>reviews_per_month</th>\n",
       "      <th>calculated_host_listings_count</th>\n",
       "      <th>availability_365</th>\n",
       "      <th>price</th>\n",
       "    </tr>\n",
       "  </thead>\n",
       "  <tbody>\n",
       "    <tr>\n",
       "      <th>879</th>\n",
       "      <td>40.64354</td>\n",
       "      <td>-73.97777</td>\n",
       "      <td>3</td>\n",
       "      <td>62</td>\n",
       "      <td>0.71</td>\n",
       "      <td>1</td>\n",
       "      <td>189</td>\n",
       "      <td>89</td>\n",
       "    </tr>\n",
       "    <tr>\n",
       "      <th>44383</th>\n",
       "      <td>40.70666</td>\n",
       "      <td>-73.90779</td>\n",
       "      <td>21</td>\n",
       "      <td>0</td>\n",
       "      <td>NaN</td>\n",
       "      <td>1</td>\n",
       "      <td>73</td>\n",
       "      <td>30</td>\n",
       "    </tr>\n",
       "    <tr>\n",
       "      <th>15394</th>\n",
       "      <td>40.76116</td>\n",
       "      <td>-73.99016</td>\n",
       "      <td>2</td>\n",
       "      <td>17</td>\n",
       "      <td>0.43</td>\n",
       "      <td>1</td>\n",
       "      <td>0</td>\n",
       "      <td>120</td>\n",
       "    </tr>\n",
       "    <tr>\n",
       "      <th>43230</th>\n",
       "      <td>40.70763</td>\n",
       "      <td>-74.01050</td>\n",
       "      <td>2</td>\n",
       "      <td>5</td>\n",
       "      <td>1.88</td>\n",
       "      <td>327</td>\n",
       "      <td>272</td>\n",
       "      <td>470</td>\n",
       "    </tr>\n",
       "    <tr>\n",
       "      <th>16332</th>\n",
       "      <td>40.79658</td>\n",
       "      <td>-73.93287</td>\n",
       "      <td>2</td>\n",
       "      <td>30</td>\n",
       "      <td>0.80</td>\n",
       "      <td>1</td>\n",
       "      <td>30</td>\n",
       "      <td>199</td>\n",
       "    </tr>\n",
       "    <tr>\n",
       "      <th>...</th>\n",
       "      <td>...</td>\n",
       "      <td>...</td>\n",
       "      <td>...</td>\n",
       "      <td>...</td>\n",
       "      <td>...</td>\n",
       "      <td>...</td>\n",
       "      <td>...</td>\n",
       "      <td>...</td>\n",
       "    </tr>\n",
       "    <tr>\n",
       "      <th>14975</th>\n",
       "      <td>40.71178</td>\n",
       "      <td>-73.95779</td>\n",
       "      <td>2</td>\n",
       "      <td>0</td>\n",
       "      <td>NaN</td>\n",
       "      <td>1</td>\n",
       "      <td>0</td>\n",
       "      <td>95</td>\n",
       "    </tr>\n",
       "    <tr>\n",
       "      <th>14661</th>\n",
       "      <td>40.78638</td>\n",
       "      <td>-73.97004</td>\n",
       "      <td>30</td>\n",
       "      <td>10</td>\n",
       "      <td>0.40</td>\n",
       "      <td>1</td>\n",
       "      <td>0</td>\n",
       "      <td>101</td>\n",
       "    </tr>\n",
       "    <tr>\n",
       "      <th>24515</th>\n",
       "      <td>40.72716</td>\n",
       "      <td>-73.98524</td>\n",
       "      <td>3</td>\n",
       "      <td>75</td>\n",
       "      <td>3.12</td>\n",
       "      <td>1</td>\n",
       "      <td>60</td>\n",
       "      <td>100</td>\n",
       "    </tr>\n",
       "    <tr>\n",
       "      <th>31460</th>\n",
       "      <td>40.79578</td>\n",
       "      <td>-73.94523</td>\n",
       "      <td>2</td>\n",
       "      <td>31</td>\n",
       "      <td>2.10</td>\n",
       "      <td>1</td>\n",
       "      <td>265</td>\n",
       "      <td>68</td>\n",
       "    </tr>\n",
       "    <tr>\n",
       "      <th>29114</th>\n",
       "      <td>40.69671</td>\n",
       "      <td>-73.94896</td>\n",
       "      <td>1</td>\n",
       "      <td>1</td>\n",
       "      <td>0.05</td>\n",
       "      <td>1</td>\n",
       "      <td>0</td>\n",
       "      <td>45</td>\n",
       "    </tr>\n",
       "  </tbody>\n",
       "</table>\n",
       "<p>29337 rows × 8 columns</p>\n",
       "</div>"
      ],
      "text/plain": [
       "       latitude  longitude  minimum_nights  number_of_reviews  \\\n",
       "879    40.64354  -73.97777               3                 62   \n",
       "44383  40.70666  -73.90779              21                  0   \n",
       "15394  40.76116  -73.99016               2                 17   \n",
       "43230  40.70763  -74.01050               2                  5   \n",
       "16332  40.79658  -73.93287               2                 30   \n",
       "...         ...        ...             ...                ...   \n",
       "14975  40.71178  -73.95779               2                  0   \n",
       "14661  40.78638  -73.97004              30                 10   \n",
       "24515  40.72716  -73.98524               3                 75   \n",
       "31460  40.79578  -73.94523               2                 31   \n",
       "29114  40.69671  -73.94896               1                  1   \n",
       "\n",
       "       reviews_per_month  calculated_host_listings_count  availability_365  \\\n",
       "879                 0.71                               1               189   \n",
       "44383                NaN                               1                73   \n",
       "15394               0.43                               1                 0   \n",
       "43230               1.88                             327               272   \n",
       "16332               0.80                               1                30   \n",
       "...                  ...                             ...               ...   \n",
       "14975                NaN                               1                 0   \n",
       "14661               0.40                               1                 0   \n",
       "24515               3.12                               1                60   \n",
       "31460               2.10                               1               265   \n",
       "29114               0.05                               1                 0   \n",
       "\n",
       "       price  \n",
       "879       89  \n",
       "44383     30  \n",
       "15394    120  \n",
       "43230    470  \n",
       "16332    199  \n",
       "...      ...  \n",
       "14975     95  \n",
       "14661    101  \n",
       "24515    100  \n",
       "31460     68  \n",
       "29114     45  \n",
       "\n",
       "[29337 rows x 8 columns]"
      ]
     },
     "execution_count": 20,
     "metadata": {},
     "output_type": "execute_result"
    }
   ],
   "source": [
    "df_train = df.iloc[idx[:n_train]]\n",
    "df_val = df.iloc[idx[n_train:n_train+n_val]]\n",
    "df_test = df.iloc[idx[n_train+n_val:]]\n",
    "\n",
    "df_train"
   ]
  },
  {
   "cell_type": "code",
   "execution_count": 21,
   "metadata": {},
   "outputs": [
    {
     "data": {
      "text/plain": [
       "(29337, 9779, 9779)"
      ]
     },
     "execution_count": 21,
     "metadata": {},
     "output_type": "execute_result"
    }
   ],
   "source": [
    "len(df_train),len(df_val),len(df_test)"
   ]
  },
  {
   "cell_type": "code",
   "execution_count": 22,
   "metadata": {},
   "outputs": [],
   "source": [
    "df_train = df_train.reset_index(drop=True)\n",
    "df_val = df_val.reset_index(drop=True)\n",
    "df_test = df_test.reset_index(drop=True)"
   ]
  },
  {
   "cell_type": "code",
   "execution_count": 23,
   "metadata": {},
   "outputs": [],
   "source": [
    "y_train = np.log1p(df_train.price.values)\n",
    "y_val = np.log1p(df_val.price.values)\n",
    "y_test = np.log1p(df_test.price.values)"
   ]
  },
  {
   "cell_type": "code",
   "execution_count": 24,
   "metadata": {},
   "outputs": [
    {
     "data": {
      "text/plain": [
       "(29337, 9779, 9779)"
      ]
     },
     "execution_count": 24,
     "metadata": {},
     "output_type": "execute_result"
    }
   ],
   "source": [
    "len(y_train),len(y_val),len(y_test)"
   ]
  },
  {
   "cell_type": "code",
   "execution_count": 25,
   "metadata": {},
   "outputs": [],
   "source": [
    "del df_train['price']\n",
    "del df_val['price']\n",
    "del df_test['price']"
   ]
  },
  {
   "cell_type": "markdown",
   "metadata": {},
   "source": [
    "# Q3"
   ]
  },
  {
   "cell_type": "code",
   "execution_count": 26,
   "metadata": {},
   "outputs": [],
   "source": [
    "df_train1 = df_train.copy()\n",
    "df_train2 = df_train.copy()\n",
    "df_train3 = df_train.copy()"
   ]
  },
  {
   "cell_type": "code",
   "execution_count": 27,
   "metadata": {},
   "outputs": [],
   "source": [
    "# Functions \n",
    "\n",
    "def train_linear_regression(X, y):\n",
    "    ones = np.ones(X.shape[0])\n",
    "    X = np.column_stack([ones, X])\n",
    "\n",
    "    XTX = X.T.dot(X)\n",
    "    XTX_inv = np.linalg.inv(XTX)\n",
    "    w_full = XTX_inv.dot(X.T).dot(y)\n",
    "    \n",
    "    return w_full[0], w_full[1:]\n",
    "\n",
    "def rmse(y, y_pred):\n",
    "    se = (y - y_pred) ** 2\n",
    "    mse = se.mean()\n",
    "    return np.sqrt(mse)\n",
    "\n",
    "\n",
    "base = [\n",
    "            'latitude',\n",
    "            'longitude',\n",
    "            'minimum_nights',\n",
    "            'number_of_reviews',\n",
    "            'reviews_per_month',\n",
    "            'calculated_host_listings_count',\n",
    "            'availability_365'\n",
    "]\n",
    "\n",
    "def prepare_X(df):\n",
    "    df_num = df[base]\n",
    "    df_num = df_num.fillna(0)\n",
    "    X = df_num.values\n",
    "    return X"
   ]
  },
  {
   "cell_type": "markdown",
   "metadata": {},
   "source": [
    "## 1st Model with fill 0"
   ]
  },
  {
   "cell_type": "code",
   "execution_count": 28,
   "metadata": {},
   "outputs": [
    {
     "name": "stdout",
     "output_type": "stream",
     "text": [
      "na sum befor =  5998\n",
      "na sum after =  0\n"
     ]
    }
   ],
   "source": [
    "print(\"na sum befor = \",df_train1.reviews_per_month.isna().sum())\n",
    "df_train1.reviews_per_month = df_train1.reviews_per_month.fillna(0)\n",
    "print(\"na sum after = \",df_train1.reviews_per_month.isna().sum())"
   ]
  },
  {
   "cell_type": "code",
   "execution_count": 29,
   "metadata": {},
   "outputs": [],
   "source": [
    "X_train1 = df_train1.fillna(0).values\n",
    "\n",
    "w0_1, w_1 = train_linear_regression(X_train1, y_train)\n",
    "\n",
    "y_pred_1 = w0_1 + X_train1.dot(w_1)"
   ]
  },
  {
   "cell_type": "code",
   "execution_count": 30,
   "metadata": {},
   "outputs": [
    {
     "data": {
      "text/plain": [
       "(-419.91265817250303,\n",
       " array([4.7827747 , 4.45947456, 4.89702083, ..., 4.82048871, 4.86944871,\n",
       "        4.61612559]))"
      ]
     },
     "execution_count": 30,
     "metadata": {},
     "output_type": "execute_result"
    }
   ],
   "source": [
    "w0_1, y_pred_1"
   ]
  },
  {
   "cell_type": "code",
   "execution_count": 31,
   "metadata": {},
   "outputs": [
    {
     "data": {
      "text/plain": [
       "<matplotlib.axes._subplots.AxesSubplot at 0x2d2409c4048>"
      ]
     },
     "execution_count": 31,
     "metadata": {},
     "output_type": "execute_result"
    },
    {
     "data": {
      "image/png": "[encoded data removed]",
      "text/plain": [
       "<Figure size 432x288 with 1 Axes>"
      ]
     },
     "metadata": {
      "needs_background": "light"
     },
     "output_type": "display_data"
    }
   ],
   "source": [
    "sns.histplot(y_pred_1, color='red', alpha=0.5, bins=50)\n",
    "sns.histplot(y_train, color='blue', alpha=0.5, bins=50)"
   ]
  },
  {
   "cell_type": "code",
   "execution_count": 32,
   "metadata": {},
   "outputs": [
    {
     "data": {
      "text/plain": [
       "0.64"
      ]
     },
     "execution_count": 32,
     "metadata": {},
     "output_type": "execute_result"
    }
   ],
   "source": [
    "round(rmse(y_train, y_pred_1),2)"
   ]
  },
  {
   "cell_type": "code",
   "execution_count": 33,
   "metadata": {},
   "outputs": [
    {
     "data": {
      "text/plain": [
       "0.64"
      ]
     },
     "execution_count": 33,
     "metadata": {},
     "output_type": "execute_result"
    }
   ],
   "source": [
    "X_val = prepare_X(df_val)\n",
    "y_pred_11 = w0_1 + X_val.dot(w_1)\n",
    "round(rmse(y_val, y_pred_11),2)"
   ]
  },
  {
   "cell_type": "markdown",
   "metadata": {},
   "source": [
    "## 2nd Model with fill with Mean"
   ]
  },
  {
   "cell_type": "code",
   "execution_count": 34,
   "metadata": {},
   "outputs": [
    {
     "name": "stdout",
     "output_type": "stream",
     "text": [
      "2nd Methode na sum befor =  5998\n",
      "2nd Methode na sum after =  0\n"
     ]
    }
   ],
   "source": [
    "print(\"2nd Methode na sum befor = \",df_train2.reviews_per_month.isna().sum())\n",
    "df_train2.reviews_per_month = df_train2.reviews_per_month.fillna(df_train2.reviews_per_month.mean())\n",
    "print(\"2nd Methode na sum after = \",df_train2.reviews_per_month.isna().sum())"
   ]
  },
  {
   "cell_type": "code",
   "execution_count": 35,
   "metadata": {},
   "outputs": [],
   "source": [
    "X_train2 = df_train2.fillna(df_train2.reviews_per_month.mean()).values\n",
    "\n",
    "w0_2, w_2 = train_linear_regression(X_train2, y_train)\n",
    "\n",
    "y_pred_2 = w0_2 + X_train2.dot(w_2)"
   ]
  },
  {
   "cell_type": "code",
   "execution_count": 36,
   "metadata": {},
   "outputs": [
    {
     "data": {
      "text/plain": [
       "(-423.53930772174533,\n",
       " array([4.76589611, 4.45581848, 4.89107725, ..., 4.83526871, 4.87768975,\n",
       "        4.60682893]))"
      ]
     },
     "execution_count": 36,
     "metadata": {},
     "output_type": "execute_result"
    }
   ],
   "source": [
    "w0_2, y_pred_2"
   ]
  },
  {
   "cell_type": "code",
   "execution_count": 37,
   "metadata": {},
   "outputs": [
    {
     "data": {
      "text/plain": [
       "<matplotlib.axes._subplots.AxesSubplot at 0x2d24113e248>"
      ]
     },
     "execution_count": 37,
     "metadata": {},
     "output_type": "execute_result"
    },
    {
     "data": {
      "image/png": "[encoded data removed]",
      "text/plain": [
       "<Figure size 432x288 with 1 Axes>"
      ]
     },
     "metadata": {
      "needs_background": "light"
     },
     "output_type": "display_data"
    }
   ],
   "source": [
    "sns.histplot(y_pred_2, color='red', alpha=0.5, bins=50)\n",
    "sns.histplot(y_train, color='blue', alpha=0.5, bins=50)"
   ]
  },
  {
   "cell_type": "code",
   "execution_count": 38,
   "metadata": {},
   "outputs": [
    {
     "data": {
      "text/plain": [
       "0.64"
      ]
     },
     "execution_count": 38,
     "metadata": {},
     "output_type": "execute_result"
    }
   ],
   "source": [
    "round(rmse(y_train, y_pred_2),2)"
   ]
  },
  {
   "cell_type": "code",
   "execution_count": 39,
   "metadata": {},
   "outputs": [
    {
     "data": {
      "text/plain": [
       "0.64"
      ]
     },
     "execution_count": 39,
     "metadata": {},
     "output_type": "execute_result"
    }
   ],
   "source": [
    "X_val = prepare_X(df_val)\n",
    "y_pred_22 = w0_2 + X_val.dot(w_2)\n",
    "round(rmse(y_val, y_pred_22),2)"
   ]
  },
  {
   "cell_type": "markdown",
   "metadata": {},
   "source": [
    "**Observation** the RMSE is the Same 0.64"
   ]
  },
  {
   "cell_type": "markdown",
   "metadata": {},
   "source": [
    "# Q4"
   ]
  },
  {
   "cell_type": "markdown",
   "metadata": {},
   "source": [
    "# Regularization\n",
    "\n"
   ]
  },
  {
   "cell_type": "code",
   "execution_count": 40,
   "metadata": {},
   "outputs": [
    {
     "data": {
      "text/plain": [
       "latitude                          0\n",
       "longitude                         0\n",
       "minimum_nights                    0\n",
       "number_of_reviews                 0\n",
       "reviews_per_month                 0\n",
       "calculated_host_listings_count    0\n",
       "availability_365                  0\n",
       "dtype: int64"
      ]
     },
     "execution_count": 40,
     "metadata": {},
     "output_type": "execute_result"
    }
   ],
   "source": [
    "df_train3.reviews_per_month = df_train3.reviews_per_month.fillna(0)\n",
    "df_train3.isna().sum()"
   ]
  },
  {
   "cell_type": "code",
   "execution_count": 41,
   "metadata": {},
   "outputs": [],
   "source": [
    "def train_linear_regression_reg(X, y, r=0.001):\n",
    "    ones = np.ones(X.shape[0])\n",
    "    X = np.column_stack([ones, X])\n",
    "\n",
    "    XTX = X.T.dot(X)\n",
    "    XTX = XTX + r * np.eye(XTX.shape[0])\n",
    "\n",
    "    XTX_inv = np.linalg.inv(XTX)\n",
    "    w_full = XTX_inv.dot(X.T).dot(y)\n",
    "    \n",
    "    return w_full[0], w_full[1:]"
   ]
  },
  {
   "cell_type": "markdown",
   "metadata": {},
   "source": [
    "### Case r= 0"
   ]
  },
  {
   "cell_type": "code",
   "execution_count": 42,
   "metadata": {},
   "outputs": [
    {
     "data": {
      "text/plain": [
       "0.64"
      ]
     },
     "execution_count": 42,
     "metadata": {},
     "output_type": "execute_result"
    }
   ],
   "source": [
    "X_train3 = prepare_X(df_train3)\n",
    "# 0, 0.000001, 0.0001, 0.001, 0.01, 0.1, 1, 5, 10\n",
    "#  r= 0\n",
    "w0_3, w_3 = train_linear_regression_reg(X_train3, y_train, r=0)\n",
    "\n",
    "X_val_3 = prepare_X(df_val)\n",
    "y_pred_3 = w0_3 + X_val_3.dot(w_3)\n",
    "round(rmse(y_val, y_pred_3),2)"
   ]
  },
  {
   "cell_type": "markdown",
   "metadata": {},
   "source": [
    "### Case r= 0.000001"
   ]
  },
  {
   "cell_type": "code",
   "execution_count": 43,
   "metadata": {},
   "outputs": [
    {
     "data": {
      "text/plain": [
       "0.64"
      ]
     },
     "execution_count": 43,
     "metadata": {},
     "output_type": "execute_result"
    }
   ],
   "source": [
    "X_train3 = prepare_X(df_train3)\n",
    "# 0, 0.000001, 0.0001, 0.001, 0.01, 0.1, 1, 5, 10\n",
    "#  r= 0.000001\n",
    "w0_3, w_3 = train_linear_regression_reg(X_train3, y_train, r=0.000001)\n",
    "\n",
    "X_val_3 = prepare_X(df_val)\n",
    "y_pred_3 = w0_3 + X_val_3.dot(w_3)\n",
    "round(rmse(y_val, y_pred_3),2)"
   ]
  },
  {
   "cell_type": "markdown",
   "metadata": {},
   "source": [
    "### Case r= 0.0001"
   ]
  },
  {
   "cell_type": "code",
   "execution_count": 44,
   "metadata": {},
   "outputs": [
    {
     "data": {
      "text/plain": [
       "0.64"
      ]
     },
     "execution_count": 44,
     "metadata": {},
     "output_type": "execute_result"
    }
   ],
   "source": [
    "X_train3 = prepare_X(df_train3)\n",
    "# 0, 0.000001, 0.0001, 0.001, 0.01, 0.1, 1, 5, 10\n",
    "#  r= 0.0001\n",
    "w0_3, w_3 = train_linear_regression_reg(X_train3, y_train, r=0.0001)\n",
    "\n",
    "X_val_3 = prepare_X(df_val)\n",
    "y_pred_3 = w0_3 + X_val_3.dot(w_3)\n",
    "round(rmse(y_val, y_pred_3),2)"
   ]
  },
  {
   "cell_type": "markdown",
   "metadata": {},
   "source": [
    "### Case r= 0.001"
   ]
  },
  {
   "cell_type": "code",
   "execution_count": 45,
   "metadata": {},
   "outputs": [
    {
     "data": {
      "text/plain": [
       "0.64"
      ]
     },
     "execution_count": 45,
     "metadata": {},
     "output_type": "execute_result"
    }
   ],
   "source": [
    "X_train3 = prepare_X(df_train3)\n",
    "# 0, 0.000001, 0.0001, 0.001, 0.01, 0.1, 1, 5, 10\n",
    "#  r= 0.001\n",
    "w0_3, w_3 = train_linear_regression_reg(X_train3, y_train, r=0.001)\n",
    "\n",
    "X_val_3 = prepare_X(df_val)\n",
    "y_pred_3 = w0_3 + X_val_3.dot(w_3)\n",
    "round(rmse(y_val, y_pred_3),2)"
   ]
  },
  {
   "cell_type": "markdown",
   "metadata": {},
   "source": [
    "### Case r= 0.01"
   ]
  },
  {
   "cell_type": "code",
   "execution_count": 46,
   "metadata": {},
   "outputs": [
    {
     "data": {
      "text/plain": [
       "0.66"
      ]
     },
     "execution_count": 46,
     "metadata": {},
     "output_type": "execute_result"
    }
   ],
   "source": [
    "X_train3 = prepare_X(df_train3)\n",
    "# 0, 0.000001, 0.0001, 0.001, 0.01, 0.1, 1, 5, 10\n",
    "#  r= 0.01\n",
    "w0_3, w_3 = train_linear_regression_reg(X_train3, y_train, r=0.01)\n",
    "\n",
    "X_val_3 = prepare_X(df_val)\n",
    "y_pred_3 = w0_3 + X_val_3.dot(w_3)\n",
    "round(rmse(y_val, y_pred_3),2)"
   ]
  },
  {
   "cell_type": "markdown",
   "metadata": {},
   "source": [
    "### Case r= 0.1"
   ]
  },
  {
   "cell_type": "code",
   "execution_count": 47,
   "metadata": {},
   "outputs": [
    {
     "data": {
      "text/plain": [
       "0.68"
      ]
     },
     "execution_count": 47,
     "metadata": {},
     "output_type": "execute_result"
    }
   ],
   "source": [
    "X_train3 = prepare_X(df_train3)\n",
    "# 0, 0.000001, 0.0001, 0.001, 0.01, 0.1, 1, 5, 10\n",
    "#  r= 0.1\n",
    "w0_3, w_3 = train_linear_regression_reg(X_train3, y_train, r=0.1)\n",
    "\n",
    "X_val_3 = prepare_X(df_val)\n",
    "y_pred_3 = w0_3 + X_val_3.dot(w_3)\n",
    "round(rmse(y_val, y_pred_3),2)"
   ]
  },
  {
   "cell_type": "markdown",
   "metadata": {},
   "source": [
    "### Case r=  1"
   ]
  },
  {
   "cell_type": "code",
   "execution_count": 48,
   "metadata": {},
   "outputs": [
    {
     "data": {
      "text/plain": [
       "0.68"
      ]
     },
     "execution_count": 48,
     "metadata": {},
     "output_type": "execute_result"
    }
   ],
   "source": [
    "X_train3 = prepare_X(df_train3)\n",
    "# 0, 0.000001, 0.0001, 0.001, 0.01, 0.1, 1, 5, 10\n",
    "#  r= 1\n",
    "w0_3, w_3 = train_linear_regression_reg(X_train3, y_train, r=1)\n",
    "\n",
    "X_val_3 = prepare_X(df_val)\n",
    "y_pred_3 = w0_3 + X_val_3.dot(w_3)\n",
    "round(rmse(y_val, y_pred_3),2)"
   ]
  },
  {
   "cell_type": "markdown",
   "metadata": {},
   "source": [
    "### Case r= 5"
   ]
  },
  {
   "cell_type": "code",
   "execution_count": 49,
   "metadata": {},
   "outputs": [
    {
     "data": {
      "text/plain": [
       "0.68"
      ]
     },
     "execution_count": 49,
     "metadata": {},
     "output_type": "execute_result"
    }
   ],
   "source": [
    "X_train3 = prepare_X(df_train3)\n",
    "# 0, 0.000001, 0.0001, 0.001, 0.01, 0.1, 1, 5, 10\n",
    "#  r= 5\n",
    "w0_3, w_3 = train_linear_regression_reg(X_train3, y_train, r=5)\n",
    "\n",
    "X_val_3 = prepare_X(df_val)\n",
    "y_pred_3 = w0_3 + X_val_3.dot(w_3)\n",
    "round(rmse(y_val, y_pred_3),2)"
   ]
  },
  {
   "cell_type": "markdown",
   "metadata": {},
   "source": [
    "### Case r= 10"
   ]
  },
  {
   "cell_type": "code",
   "execution_count": 50,
   "metadata": {},
   "outputs": [
    {
     "data": {
      "text/plain": [
       "0.68"
      ]
     },
     "execution_count": 50,
     "metadata": {},
     "output_type": "execute_result"
    }
   ],
   "source": [
    "X_train3 = prepare_X(df_train3)\n",
    "\n",
    "# 0, 0.000001, 0.0001, 0.001, 0.01, 0.1, 1, 5, 10\n",
    "#  r= 10\n",
    "w0_3, w_3 = train_linear_regression_reg(X_train3, y_train, r=10)\n",
    "\n",
    "X_val_3 = prepare_X(df_val)\n",
    "y_pred_3 = w0_3 + X_val_3.dot(w_3)\n",
    "round(rmse(y_val, y_pred_3),2)"
   ]
  },
  {
   "cell_type": "markdown",
   "metadata": {},
   "source": [
    "**OR** this methode"
   ]
  },
  {
   "cell_type": "code",
   "execution_count": 51,
   "metadata": {},
   "outputs": [
    {
     "name": "stdout",
     "output_type": "stream",
     "text": [
      "0 -419.91265817250303 0.6430337788589233\n",
      "1e-06 -419.86271538401513 0.643034115742464\n",
      "0.0001 -414.9764921499109 0.6430723153620719\n",
      "0.001 -375.2736523610076 0.6437669735353729\n",
      "0.01 -191.7838404491127 0.6557528427517515\n",
      "0.1 -32.56256054292286 0.6773299642459434\n",
      "1 -3.4992168345626347 0.6823116950156575\n",
      "5 -0.7033623163350434 0.6827915727845193\n",
      "10 -0.35127676060936247 0.6828430212098543\n"
     ]
    }
   ],
   "source": [
    "for r in [0, 0.000001, 0.0001, 0.001, 0.01, 0.1, 1, 5, 10]:\n",
    "    X_train3 = prepare_X(df_train3)\n",
    "    w0_3, w_3 = train_linear_regression_reg(X_train3, y_train, r=r)\n",
    "\n",
    "    X_val_3 = prepare_X(df_val)\n",
    "    y_pred_3 = w0_3 + X_val_3.dot(w_3)\n",
    "    score = rmse(y_val, y_pred_3)\n",
    "    \n",
    "    print(r, w0_3, score)"
   ]
  },
  {
   "cell_type": "markdown",
   "metadata": {},
   "source": [
    " * the best r are : # r= 0.1, #  r= 1, #  r= 5, #  r= 10\n",
    " \n",
    " so  **r= 0.1** with **rmse = 0.68**"
   ]
  },
  {
   "cell_type": "markdown",
   "metadata": {},
   "source": [
    "# Q5"
   ]
  },
  {
   "cell_type": "code",
   "execution_count": 52,
   "metadata": {},
   "outputs": [],
   "source": [
    "rmse_scores =[]"
   ]
  },
  {
   "cell_type": "markdown",
   "metadata": {},
   "source": [
    "### Seed = 0"
   ]
  },
  {
   "cell_type": "code",
   "execution_count": 53,
   "metadata": {},
   "outputs": [
    {
     "name": "stdout",
     "output_type": "stream",
     "text": [
      "Seed=  0 , Rmse score = 0.64\n",
      "Seed=  1 , Rmse score = 0.64\n",
      "Seed=  2 , Rmse score = 0.64\n",
      "Seed=  3 , Rmse score = 0.64\n",
      "Seed=  4 , Rmse score = 0.64\n",
      "Seed=  5 , Rmse score = 0.66\n",
      "Seed=  6 , Rmse score = 0.65\n",
      "Seed=  7 , Rmse score = 0.64\n",
      "Seed=  8 , Rmse score = 0.65\n",
      "Seed=  9 , Rmse score = 0.65\n"
     ]
    }
   ],
   "source": [
    "for s in [0, 1, 2, 3, 4, 5, 6, 7, 8, 9]:\n",
    "    \n",
    "    np.random.seed(s)\n",
    "    np.random.shuffle(idx)\n",
    "    df_train = df.iloc[idx[:n_train]]\n",
    "    df_val = df.iloc[idx[n_train:n_train+n_val]]\n",
    "    df_test = df.iloc[idx[n_train+n_val:]]\n",
    "    \n",
    "    df_train = df_train.reset_index(drop=True)\n",
    "    df_val = df_val.reset_index(drop=True)\n",
    "    df_test = df_test.reset_index(drop=True)\n",
    "\n",
    "    y_train = np.log1p(df_train.price.values)\n",
    "    y_val = np.log1p(df_val.price.values)\n",
    "    y_test = np.log1p(df_test.price.values)\n",
    "    \n",
    "    # fillna with 0\n",
    "    #df_train = df_train.fillna(0).values\n",
    "    \n",
    "    # train \n",
    "    X_train = prepare_X(df_train)\n",
    "    w0, w = train_linear_regression(X_train, y_train)\n",
    "    \n",
    "    # validate\n",
    "    X_val = prepare_X(df_val)\n",
    "    y_pred = w0 + X_val.dot(w)\n",
    "    \n",
    "    \n",
    "    # rmse\n",
    "    score = round(np.sqrt(mean_squared_error(y_val, y_pred)),2)\n",
    "    rmse_scores.append(score)\n",
    "    \n",
    "    print('Seed=  {} , Rmse score = {}'.format(s,score))\n",
    "    \n",
    "    "
   ]
  },
  {
   "cell_type": "code",
   "execution_count": 54,
   "metadata": {},
   "outputs": [
    {
     "data": {
      "text/plain": [
       "[0.64, 0.64, 0.64, 0.64, 0.64, 0.66, 0.65, 0.64, 0.65, 0.65]"
      ]
     },
     "execution_count": 54,
     "metadata": {},
     "output_type": "execute_result"
    }
   ],
   "source": [
    "rmse_scores"
   ]
  },
  {
   "cell_type": "code",
   "execution_count": 55,
   "metadata": {},
   "outputs": [
    {
     "name": "stdout",
     "output_type": "stream",
     "text": [
      " STD of RMSE Scores = 0.007\n"
     ]
    }
   ],
   "source": [
    "std = np.std(rmse_scores)\n",
    "print(' STD of RMSE Scores = {}'.format(round(std,3)))"
   ]
  },
  {
   "cell_type": "markdown",
   "metadata": {},
   "source": [
    "# Q6"
   ]
  },
  {
   "cell_type": "code",
   "execution_count": 56,
   "metadata": {},
   "outputs": [],
   "source": [
    "np.random.seed(9)\n",
    "np.random.shuffle(idx)\n",
    "df_train = df.iloc[idx[:n_train]]\n",
    "df_val = df.iloc[idx[n_train:n_train+n_val]]\n",
    "df_test = df.iloc[idx[n_train+n_val:]]\n",
    "    \n",
    "df_train = df_train.reset_index(drop=True)\n",
    "df_val = df_val.reset_index(drop=True)\n",
    "df_test = df_test.reset_index(drop=True)\n",
    "\n",
    "y_train = np.log1p(df_train.price.values)\n",
    "y_val = np.log1p(df_val.price.values)\n",
    "y_test = np.log1p(df_test.price.values)"
   ]
  },
  {
   "cell_type": "code",
   "execution_count": 57,
   "metadata": {},
   "outputs": [],
   "source": [
    "df_full_train = pd.concat([df_train, df_val])\n",
    "df_full_train = df_full_train.reset_index(drop=True)\n",
    "X_full_train = prepare_X(df_full_train)\n",
    "\n",
    "y_full_train = np.concatenate([y_train, y_val])"
   ]
  },
  {
   "cell_type": "code",
   "execution_count": 58,
   "metadata": {},
   "outputs": [],
   "source": [
    "w0, w = train_linear_regression_reg(X_full_train, y_full_train, r=0.001)\n"
   ]
  },
  {
   "cell_type": "code",
   "execution_count": 61,
   "metadata": {},
   "outputs": [
    {
     "data": {
      "text/plain": [
       "0.65"
      ]
     },
     "execution_count": 61,
     "metadata": {},
     "output_type": "execute_result"
    }
   ],
   "source": [
    "X_test = prepare_X(df_test)\n",
    "y_pred = w0 + X_test.dot(w)\n",
    "score = rmse(y_test, y_pred)\n",
    "round(score,2)"
   ]
  },
  {
   "cell_type": "code",
   "execution_count": 62,
   "metadata": {},
   "outputs": [
    {
     "data": {
      "text/plain": [
       "{'latitude': 40.733909999999995,\n",
       " 'longitude': -73.97856999999999,\n",
       " 'minimum_nights': 4.0,\n",
       " 'number_of_reviews': 1.0,\n",
       " 'reviews_per_month': 0.08,\n",
       " 'calculated_host_listings_count': 1.0,\n",
       " 'availability_365': 0.0,\n",
       " 'price': 55.0}"
      ]
     },
     "execution_count": 62,
     "metadata": {},
     "output_type": "execute_result"
    }
   ],
   "source": [
    "house = df_test.iloc[10].to_dict()\n",
    "house"
   ]
  },
  {
   "cell_type": "code",
   "execution_count": 63,
   "metadata": {},
   "outputs": [
    {
     "data": {
      "text/html": [
       "<div>\n",
       "<style scoped>\n",
       "    .dataframe tbody tr th:only-of-type {\n",
       "        vertical-align: middle;\n",
       "    }\n",
       "\n",
       "    .dataframe tbody tr th {\n",
       "        vertical-align: top;\n",
       "    }\n",
       "\n",
       "    .dataframe thead th {\n",
       "        text-align: right;\n",
       "    }\n",
       "</style>\n",
       "<table border=\"1\" class=\"dataframe\">\n",
       "  <thead>\n",
       "    <tr style=\"text-align: right;\">\n",
       "      <th></th>\n",
       "      <th>latitude</th>\n",
       "      <th>longitude</th>\n",
       "      <th>minimum_nights</th>\n",
       "      <th>number_of_reviews</th>\n",
       "      <th>reviews_per_month</th>\n",
       "      <th>calculated_host_listings_count</th>\n",
       "      <th>availability_365</th>\n",
       "      <th>price</th>\n",
       "    </tr>\n",
       "  </thead>\n",
       "  <tbody>\n",
       "    <tr>\n",
       "      <th>0</th>\n",
       "      <td>40.73391</td>\n",
       "      <td>-73.97857</td>\n",
       "      <td>4.0</td>\n",
       "      <td>1.0</td>\n",
       "      <td>0.08</td>\n",
       "      <td>1.0</td>\n",
       "      <td>0.0</td>\n",
       "      <td>55.0</td>\n",
       "    </tr>\n",
       "  </tbody>\n",
       "</table>\n",
       "</div>"
      ],
      "text/plain": [
       "   latitude  longitude  minimum_nights  number_of_reviews  reviews_per_month  \\\n",
       "0  40.73391  -73.97857             4.0                1.0               0.08   \n",
       "\n",
       "   calculated_host_listings_count  availability_365  price  \n",
       "0                             1.0               0.0   55.0  "
      ]
     },
     "execution_count": 63,
     "metadata": {},
     "output_type": "execute_result"
    }
   ],
   "source": [
    "df_small = pd.DataFrame([house])\n",
    "df_small"
   ]
  },
  {
   "cell_type": "code",
   "execution_count": 64,
   "metadata": {},
   "outputs": [
    {
     "data": {
      "text/plain": [
       "4.805964741551918"
      ]
     },
     "execution_count": 64,
     "metadata": {},
     "output_type": "execute_result"
    }
   ],
   "source": [
    "X_small = prepare_X(df_small)\n",
    "\n",
    "y_pred = w0 + X_small.dot(w)\n",
    "y_pred = y_pred[0]\n",
    "y_pred"
   ]
  },
  {
   "cell_type": "code",
   "execution_count": 65,
   "metadata": {},
   "outputs": [
    {
     "data": {
      "text/plain": [
       "121.23736161665778"
      ]
     },
     "execution_count": 65,
     "metadata": {},
     "output_type": "execute_result"
    }
   ],
   "source": [
    "np.expm1(y_pred)"
   ]
  },
  {
   "cell_type": "code",
   "execution_count": 66,
   "metadata": {},
   "outputs": [
    {
     "data": {
      "text/plain": [
       "55.00000000000002"
      ]
     },
     "execution_count": 66,
     "metadata": {},
     "output_type": "execute_result"
    }
   ],
   "source": [
    "np.expm1(y_test[10])\n"
   ]
  },
  {
   "cell_type": "code",
   "execution_count": null,
   "metadata": {},
   "outputs": [],
   "source": []
  }
 ],
 "metadata": {
  "kernelspec": {
   "display_name": "Python 3",
   "language": "python",
   "name": "python3"
  },
  "language_info": {
   "codemirror_mode": {
    "name": "ipython",
    "version": 3
   },
   "file_extension": ".py",
   "mimetype": "text/x-python",
   "name": "python",
   "nbconvert_exporter": "python",
   "pygments_lexer": "ipython3",
   "version": "3.7.6"
  }
 },
 "nbformat": 4,
 "nbformat_minor": 4
}
